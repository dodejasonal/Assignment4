{
  "nbformat": 4,
  "nbformat_minor": 0,
  "metadata": {
    "colab": {
      "provenance": []
    },
    "kernelspec": {
      "name": "python3",
      "display_name": "Python 3"
    },
    "language_info": {
      "name": "python"
    }
  },
  "cells": [
    {
      "cell_type": "markdown",
      "source": [
        "# **Python OOPs Assignment Questions**"
      ],
      "metadata": {
        "id": "DxPs7wkCwT5i"
      }
    },
    {
      "cell_type": "markdown",
      "source": [
        "# **Python OOPs Questions Theory**"
      ],
      "metadata": {
        "id": "ZxvxPQMXyqFV"
      }
    },
    {
      "cell_type": "markdown",
      "source": [
        "**1. What is Object-Oriented Programming (OOP)1?**"
      ],
      "metadata": {
        "id": "jTFYL2TNwgL0"
      }
    },
    {
      "cell_type": "markdown",
      "source": [
        "Object-Oriented Programming (OOP) is a programming paradigm that is centered around the concept of \"objects.\" These objects are instances of classes, which define the blueprint for creating them. OOP organizes software design around these objects rather than functions or logic. The main goal of OOP is to make software more modular, reusable, and easier to maintain.\n",
        "\n",
        "\n",
        "- Key Concepts of OOP:\n",
        "\n",
        "1.Classes and Objects\n",
        "\n",
        "2.Encapsulation\n",
        "\n",
        "3.Inheritance\n",
        "\n",
        "4.Polymorphism\n",
        "\n",
        "5.Abstraction\n",
        "\n",
        "\n",
        "Advantages of OOP:\n",
        "- Modularity: Programs are divided into smaller, manageable objects.\n",
        "- Reusability: Once a class is written, it can be reused in other programs or parts of the program.\n",
        "- Scalability and Maintainability: It’s easier to scale and maintain software as changes to one part of the system can be made without affecting others.\n",
        "- Flexibility: Polymorphism and inheritance allow for flexible code designs.\n",
        "\n",
        "**Example of OOP in Python:**"
      ],
      "metadata": {
        "id": "zBMBvjpcwwzw"
      }
    },
    {
      "cell_type": "code",
      "execution_count": 1,
      "metadata": {
        "colab": {
          "base_uri": "https://localhost:8080/"
        },
        "id": "IvLpbFzewS0u",
        "outputId": "a669d7d6-c79f-4d00-8c57-6db31704fca1"
      },
      "outputs": [
        {
          "output_type": "stream",
          "name": "stdout",
          "text": [
            "Buddy says Woof!\n",
            "Whiskers says Meow!\n"
          ]
        }
      ],
      "source": [
        "# Define the base class\n",
        "class Animal:\n",
        "    def __init__(self, name):\n",
        "        self.name = name\n",
        "\n",
        "    def speak(self):\n",
        "        raise NotImplementedError(\"Subclass must implement abstract method\")\n",
        "\n",
        "# Define a derived class\n",
        "class Dog(Animal):\n",
        "    def speak(self):\n",
        "        return f\"{self.name} says Woof!\"\n",
        "\n",
        "class Cat(Animal):\n",
        "    def speak(self):\n",
        "        return f\"{self.name} says Meow!\"\n",
        "\n",
        "# Create objects of the derived classes\n",
        "dog = Dog(\"Buddy\")\n",
        "cat = Cat(\"Whiskers\")\n",
        "\n",
        "# Call the method\n",
        "print(dog.speak())  # Outputs: Buddy says Woof!\n",
        "print(cat.speak())  # Outputs: Whiskers says Meow!\n"
      ]
    },
    {
      "cell_type": "markdown",
      "source": [
        "**2. What is a class in OOP?**"
      ],
      "metadata": {
        "id": "V6T7TqQgxq7d"
      }
    },
    {
      "cell_type": "markdown",
      "source": [
        "In Object-Oriented Programming (OOP), a class is a blueprint or template used to create objects (instances). It defines the structure and behavior that the objects created from it will have. A class specifies the attributes (data) and methods (functions) that an object of that class will possess.\n",
        "\n",
        "**Key Points About Classes:**\n",
        "\n",
        "- Attributes (also known as Properties or Fields)\n",
        "\n",
        "- Methods (also known as Functions or Behaviors)\n",
        "\n",
        "- Constructor\n",
        "\n",
        "**Structure of a Class in OOP (Example in Python):**\n"
      ],
      "metadata": {
        "id": "nbEDqmTdyAJW"
      }
    },
    {
      "cell_type": "code",
      "source": [
        "class Car:\n",
        "    # Constructor (initializes the object with given data)\n",
        "    def __init__(self, make, model, year, color):\n",
        "        self.make = make\n",
        "        self.model = model\n",
        "        self.year = year\n",
        "        self.color = color\n",
        "\n",
        "    # Method (function that can be called on the object)\n",
        "    def start(self):\n",
        "        return f\"The {self.color} {self.year} {self.make} {self.model} is starting.\"\n",
        "\n",
        "    def drive(self):\n",
        "        return f\"The {self.color} {self.year} {self.make} {self.model} is now driving.\"\n",
        "\n",
        "# Create an object (instance of the Car class)\n",
        "my_car = Car(\"Toyota\", \"Corolla\", 2020, \"blue\")\n",
        "\n",
        "# Access attributes and call methods\n",
        "print(my_car.start())  # Output: The blue 2020 Toyota Corolla is starting.\n",
        "print(my_car.drive())  # Output: The blue 2020 Toyota Corolla is now driving.\n"
      ],
      "metadata": {
        "colab": {
          "base_uri": "https://localhost:8080/"
        },
        "id": "Zdetcg3Uxij3",
        "outputId": "eb23e933-167c-44ab-ff39-8f2aca0cafe4"
      },
      "execution_count": 2,
      "outputs": [
        {
          "output_type": "stream",
          "name": "stdout",
          "text": [
            "The blue 2020 Toyota Corolla is starting.\n",
            "The blue 2020 Toyota Corolla is now driving.\n"
          ]
        }
      ]
    },
    {
      "cell_type": "markdown",
      "source": [
        " **3.What is an object in OOP?**"
      ],
      "metadata": {
        "id": "WggXU2vqyf9r"
      }
    },
    {
      "cell_type": "markdown",
      "source": [
        "In Object-Oriented Programming (OOP), an object is an instance of a class. It is a specific, tangible realization of the blueprint provided by a class. An object contains data (attributes) and functions (methods) that operate on that data.\n",
        "\n",
        "**Key Characteristics of an Object**\n",
        "\n",
        "- Attributes (or Properties/Fields)\n",
        "\n",
        "- Methods (or Behaviors)\n",
        "\n",
        "- Identity\n",
        "\n",
        "**Example of an Object in OOP (in Python):**\n",
        "\n"
      ],
      "metadata": {
        "id": "EifIkPSSy5rO"
      }
    },
    {
      "cell_type": "code",
      "source": [
        "class Car:\n",
        "    def __init__(self, make, model, year, color):\n",
        "        self.make = make  # Attribute\n",
        "        self.model = model  # Attribute\n",
        "        self.year = year  # Attribute\n",
        "        self.color = color  # Attribute\n",
        "\n",
        "    def start(self):  # Method\n",
        "        return f\"The {self.color} {self.year} {self.make} {self.model} is starting.\"\n",
        "\n",
        "    def drive(self):  # Method\n",
        "        return f\"The {self.color} {self.year} {self.make} {self.model} is now driving.\"\n",
        "\n",
        "# Creating an object (instance) of the Car class\n",
        "my_car = Car(\"Tesla\", \"Model S\", 2022, \"red\")\n",
        "\n",
        "# Accessing attributes and calling methods on the object\n",
        "print(my_car.start())  # Output: The red 2022 Tesla Model S is starting.\n",
        "print(my_car.drive())  # Output: The red 2022 Tesla Model S is now driving.\n"
      ],
      "metadata": {
        "colab": {
          "base_uri": "https://localhost:8080/"
        },
        "id": "SCFGhEJ4yZBz",
        "outputId": "1d7f3b4a-0203-4c22-c15b-bd2ffd20e24b"
      },
      "execution_count": 3,
      "outputs": [
        {
          "output_type": "stream",
          "name": "stdout",
          "text": [
            "The red 2022 Tesla Model S is starting.\n",
            "The red 2022 Tesla Model S is now driving.\n"
          ]
        }
      ]
    },
    {
      "cell_type": "markdown",
      "source": [
        "**4.What is the difference between abstraction and encapsulation?**"
      ],
      "metadata": {
        "id": "IWPd21zlzYco"
      }
    },
    {
      "cell_type": "markdown",
      "source": [
        "In Object-Oriented Programming (OOP), abstraction and encapsulation are two fundamental concepts that help in organizing and managing code, but they serve different purposes. Let's break down their differences:\n",
        "\n",
        "\n",
        "1.**Abstraction**\n",
        "\n",
        "Abstraction refers to the concept of hiding the complexity of a system and showing only the essential features to the user. It allows you to focus on what an object does, rather than how it does it. In other words, abstraction is about defining interfaces and providing a simplified view of the underlying implementation.\n",
        "\n",
        "Key Points about Abstraction:\n",
        "- Hides complexity: Only the relevant details are exposed, and unnecessary details are hidden.\n",
        "- Focuses on \"what\" an object does: It defines the essential properties and behaviors an object should have, without worrying about the implementation details.\n",
        "- Implemented using abstract classes or interfaces: In languages like Java and C#, abstraction can be implemented with abstract classes or interfaces, while in Python, it can be achieved through abstract base classes (ABC).\n",
        "\n",
        "**Example:**"
      ],
      "metadata": {
        "id": "sK62_0hWzkui"
      }
    },
    {
      "cell_type": "code",
      "source": [
        "from abc import ABC, abstractmethod\n",
        "\n",
        "# Abstract class\n",
        "class Animal(ABC):\n",
        "    @abstractmethod\n",
        "    def sound(self):\n",
        "        pass\n",
        "\n",
        "# Concrete class\n",
        "class Dog(Animal):\n",
        "    def sound(self):\n",
        "        return \"Woof\"\n",
        "\n",
        "# We don't know the internal details of the sound() method for Dog;\n",
        "# we only know it produces a sound\n",
        "my_dog = Dog()\n",
        "print(my_dog.sound())  # Output: Woof\n"
      ],
      "metadata": {
        "colab": {
          "base_uri": "https://localhost:8080/"
        },
        "id": "F33c4ZjZzNDC",
        "outputId": "6b3c10e9-fe1a-4e38-9ca0-71fb85c75708"
      },
      "execution_count": 4,
      "outputs": [
        {
          "output_type": "stream",
          "name": "stdout",
          "text": [
            "Woof\n"
          ]
        }
      ]
    },
    {
      "cell_type": "markdown",
      "source": [
        "**2. Encapsulation**\n",
        "\n",
        "Encapsulation refers to the concept of bundling the data (attributes) and the methods (functions) that operate on that data into a single unit called an object. It also involves controlling access to the data by using access modifiers (like private, public, and protected) to restrict or allow certain operations.\n",
        "\n",
        "Encapsulation is focused on data hiding—it allows for controlling how the internal state of an object is accessed and modified. This is often achieved by using getter and setter methods to provide controlled access to the object's attributes.\n",
        "\n",
        "Key Points about Encapsulation:\n",
        "- Data hiding: It hides the internal state of the object and exposes only the necessary parts to the outside world.\n",
        "- Controlled access: Access to the object's data is controlled through methods (getters and setters), ensuring that the data is accessed and modified in a controlled way.\n",
        "- Improves security and maintainability: By restricting direct access to an object's attributes, encapsulation helps protect the integrity of the data and makes the system easier to maintain.\n",
        "\n",
        "**Example:**\n"
      ],
      "metadata": {
        "id": "cq30LCMaz__n"
      }
    },
    {
      "cell_type": "code",
      "source": [
        "class BankAccount:\n",
        "    def __init__(self, balance):\n",
        "        self.__balance = balance  # private attribute\n",
        "\n",
        "    # Getter method to access the balance\n",
        "    def get_balance(self):\n",
        "        return self.__balance\n",
        "\n",
        "    # Setter method to modify the balance\n",
        "    def deposit(self, amount):\n",
        "        if amount > 0:\n",
        "            self.__balance += amount\n",
        "        else:\n",
        "            print(\"Deposit amount must be positive.\")\n",
        "\n",
        "    def withdraw(self, amount):\n",
        "        if amount <= self.__balance:\n",
        "            self.__balance -= amount\n",
        "        else:\n",
        "            print(\"Insufficient funds.\")\n",
        "\n",
        "# Creating an object of BankAccount\n",
        "account = BankAccount(1000)\n",
        "\n",
        "# Accessing data through methods, not directly\n",
        "account.deposit(500)\n",
        "print(account.get_balance())  # Output: 1500\n",
        "\n",
        "account.withdraw(200)\n",
        "print(account.get_balance())  # Output: 1300\n"
      ],
      "metadata": {
        "colab": {
          "base_uri": "https://localhost:8080/"
        },
        "id": "1SlYcphPz-lA",
        "outputId": "93d536cf-8b3b-44f9-bc0d-a2c80a5b96dd"
      },
      "execution_count": 5,
      "outputs": [
        {
          "output_type": "stream",
          "name": "stdout",
          "text": [
            "1500\n",
            "1300\n"
          ]
        }
      ]
    },
    {
      "cell_type": "markdown",
      "source": [
        "**5.What are dunder methods in Python?**"
      ],
      "metadata": {
        "id": "I8Og6aWL42bu"
      }
    },
    {
      "cell_type": "markdown",
      "source": [
        "In Python, dunder methods (short for \"double underscore methods\") are special methods that have a name starting and ending with double underscores (__). They are also known as magic methods or special methods because they are used to implement or customize default behavior for objects in Python.\n",
        "\n",
        "These methods enable you to define or modify how objects behave in certain situations, such as when they are compared, printed, or used in arithmetic operations. Dunder methods allow for the customization of built-in Python functions and operators.\n",
        "\n",
        "\n",
        "\n",
        "**Common Dunder Methods in Python:**\n",
        "\n",
        "1. __init__(self)\n",
        "\n",
        "2. __str__(self)\n",
        "\n",
        "3. __repr__(self)\n",
        "\n",
        "4. __add__(self, other)\n",
        "\n",
        "5. __eq__(self, other)\n",
        "\n",
        "6. __len__(self)\n",
        "\n",
        "7. __getitem__(self, key)\n",
        "\n",
        "8. __setitem__(self, key, value)\n",
        "\n",
        "9. __del__(self)\n",
        "\n"
      ],
      "metadata": {
        "id": "EITxSY_g5C8G"
      }
    },
    {
      "cell_type": "markdown",
      "source": [
        "**6.Explain the concept of inheritance in OOP ?**"
      ],
      "metadata": {
        "id": "dObCSN3b5-qN"
      }
    },
    {
      "cell_type": "markdown",
      "source": [
        "Inheritance is a core concept in Object-Oriented Programming (OOP) that allows a class (called a child or subclass) to inherit attributes and methods from another class (called a parent or superclass). This promotes code reuse, making it easier to create new classes based on existing ones, while allowing for modification or extension of the parent class's functionality.\n",
        "\n",
        "Key Points of Inheritance:\n",
        "1. Code Reusability: A subclass can reuse the code (attributes and methods) defined in the parent class, reducing redundancy.\n",
        "2. Extensibility: The subclass can add or modify functionality specific to itself, extending the behavior of the parent class.\n",
        "3. Hierarchical Relationship: Inheritance establishes an \"is-a\" relationship between the parent class and subclass, meaning that the subclass is a more specialized version of the parent class.\n",
        "\n",
        "**Types of Inheritance:**\n",
        "\n",
        "1.Single Inheritance\n",
        "\n",
        "2.Multiple Inheritance\n",
        "\n",
        "3.Multilevel Inheritance\n",
        "\n",
        "4.Hierarchical Inheritance\n",
        "\n",
        "5.Hybrid Inheritance\n",
        "\n",
        "**Key Concepts in Inheritance:**\n",
        "\n",
        "\n",
        "\n",
        "1.Overriding Methods:\n",
        "\n",
        "- A child class can provide its own implementation of a method that is already defined in the parent class. This is called method overriding. In the example above, the speak() method was overridden in the Dog class.\n",
        "2.The super() Function:\n",
        "\n",
        "- The super() function is used to call methods from the parent class. It is especially useful for calling the constructor (__init__()) of the parent class when initializing the subclass.\n",
        "In the example above, super().__init__() is used to initialize the parent class’s name attribute in the child class.\n",
        "3.The self Keyword:\n",
        "\n",
        "- The self keyword in Python refers to the instance of the class. It is used to access attributes and methods in both the parent and child classes."
      ],
      "metadata": {
        "id": "CCKFZTZK6XCV"
      }
    },
    {
      "cell_type": "markdown",
      "source": [
        "**7.What is polymorphism in OOP?**"
      ],
      "metadata": {
        "id": "jKZPti6h7cTP"
      }
    },
    {
      "cell_type": "markdown",
      "source": [
        "Polymorphism is a key concept in Object-Oriented Programming (OOP) that allows objects of different classes to be treated as objects of a common superclass. The term polymorphism comes from Greek, meaning \"many shapes.\" It enables a single function or method to work with objects of different types, allowing for flexibility and extensibility in code.\n",
        "\n",
        "**Key Features of Polymorphism:**\n",
        "\n",
        "\n",
        "1.Method Overriding: A subclass can provide its own implementation of a method that is already defined in its parent class. This is known as method overriding.\n",
        "\n",
        "\n",
        "2.Method Overloading (in some languages): The ability to define multiple methods with the same name but different parameter lists. This is supported in languages like Java, but not in Python (though Python allows for flexibility with argument types).\n",
        "\n",
        "\n",
        "3.Dynamic Method Binding (Late Binding): In polymorphism, the method that gets called is determined at runtime based on the object type, not the reference type.\n",
        "Polymorphism enables code reusability, simplified code, and better maintainability, as it allows you to write more generic code that can work with objects of various classes.\n",
        "\n",
        "**Types of Polymorphism:**\n",
        "\n",
        "\n",
        "\n",
        "**1.Compile-Time Polymorphism (Static Polymorphism):**\n",
        "\n",
        "- This is resolved during the compilation process. Method overloading and operator overloading are examples of compile-time polymorphism.\n",
        "- Note: Python does not support compile-time polymorphism explicitly, as it is dynamically typed.\n",
        "\n",
        "\n",
        "**2.Run-Time Polymorphism (Dynamic Polymorphism):**\n",
        "\n",
        "This occurs at runtime, and is typically achieved through method overriding, where a method in a subclass overrides a method in the parent class.\n",
        "Python supports dynamic polymorphism using method overriding.\n",
        "Examples of Polymorphism in Python:\n",
        "\n",
        "\n",
        "1. Polymorphism with Method Overriding:\n",
        "\n",
        "\n",
        "In this example, we have a common interface method (speak) that is overridden in different subclasses."
      ],
      "metadata": {
        "id": "LCdV5FIK73bd"
      }
    },
    {
      "cell_type": "code",
      "source": [
        "class Animal:\n",
        "    def speak(self):\n",
        "        return \"Animal makes a sound\"\n",
        "\n",
        "class Dog(Animal):\n",
        "    def speak(self):\n",
        "        return \"Dog barks\"\n",
        "\n",
        "class Cat(Animal):\n",
        "    def speak(self):\n",
        "        return \"Cat meows\"\n",
        "\n",
        "# Using polymorphism\n",
        "animals = [Dog(), Cat(), Animal()]\n",
        "\n",
        "for animal in animals:\n",
        "    print(animal.speak())\n"
      ],
      "metadata": {
        "colab": {
          "base_uri": "https://localhost:8080/"
        },
        "id": "4nJhpEYO0UHo",
        "outputId": "b8af6939-d85a-426e-b355-718453311d17"
      },
      "execution_count": 6,
      "outputs": [
        {
          "output_type": "stream",
          "name": "stdout",
          "text": [
            "Dog barks\n",
            "Cat meows\n",
            "Animal makes a sound\n"
          ]
        }
      ]
    },
    {
      "cell_type": "markdown",
      "source": [
        "2. Polymorphism with Method Overloading (Simulated in Python):\n",
        "\n",
        "\n",
        "\n",
        "While Python does not support traditional method overloading, we can simulate it by checking the types or the number of arguments passed to a method."
      ],
      "metadata": {
        "id": "MIoWlp9R9a9_"
      }
    },
    {
      "cell_type": "code",
      "source": [
        "class Printer:\n",
        "    def print_message(self, *args):\n",
        "        if len(args) == 1:\n",
        "            print(f\"Printing message: {args[0]}\")\n",
        "        elif len(args) == 2:\n",
        "            print(f\"Printing message: {args[0]} with title: {args[1]}\")\n",
        "        else:\n",
        "            print(\"Invalid number of arguments.\")\n",
        "\n",
        "# Testing polymorphism-like behavior\n",
        "printer = Printer()\n",
        "printer.print_message(\"Hello, World!\")  # Single argument\n",
        "printer.print_message(\"Hello, World!\", \"Greeting\")  # Two arguments\n"
      ],
      "metadata": {
        "colab": {
          "base_uri": "https://localhost:8080/"
        },
        "id": "Nwd198Rk9ZFF",
        "outputId": "e5d275af-583e-4a4b-9eee-5544c2cc319a"
      },
      "execution_count": 7,
      "outputs": [
        {
          "output_type": "stream",
          "name": "stdout",
          "text": [
            "Printing message: Hello, World!\n",
            "Printing message: Hello, World! with title: Greeting\n"
          ]
        }
      ]
    },
    {
      "cell_type": "markdown",
      "source": [
        "**8.How is encapsulation achieved in Python?**"
      ],
      "metadata": {
        "id": "GKdBDHuX9s1P"
      }
    },
    {
      "cell_type": "markdown",
      "source": [
        "Encapsulation is one of the core concepts of Object-Oriented Programming (OOP) and refers to the practice of bundling data (attributes) and methods (functions) that operate on the data into a single unit or class. It also involves restricting access to certain components of an object, usually to protect the object's integrity by preventing direct modification from outside. In Python, encapsulation is achieved using access control mechanisms that hide the internal state of objects and provide controlled access through methods.\n",
        "\n",
        "**How Encapsulation is Achieved in Python:**\n",
        "\n",
        "\n",
        "In Python, encapsulation is typically implemented using the following:\n",
        "\n",
        "**1.Public Attributes and Methods:**\n",
        "\n",
        "- Attributes and methods that are meant to be accessible from outside the class are defined as public. By default, all attributes and methods are public in Python.\n",
        "- Public attributes can be accessed directly from an object.\n"
      ],
      "metadata": {
        "id": "D1wqTS7D-E8R"
      }
    },
    {
      "cell_type": "code",
      "source": [
        "class Car:\n",
        "    def __init__(self, make, model):\n",
        "        self.make = make  # Public attribute\n",
        "        self.model = model  # Public attribute\n",
        "\n",
        "    def display_info(self):\n",
        "        print(f\"Car make: {self.make}, Model: {self.model}\")\n",
        "\n",
        "car = Car(\"Toyota\", \"Corolla\")\n",
        "print(car.make)  # Accessing public attribute\n",
        "car.display_info()  # Accessing public method\n"
      ],
      "metadata": {
        "colab": {
          "base_uri": "https://localhost:8080/"
        },
        "id": "DsgKqsji9jgR",
        "outputId": "b7abec3e-4cea-4d2f-b247-aa1a5cb443e2"
      },
      "execution_count": 8,
      "outputs": [
        {
          "output_type": "stream",
          "name": "stdout",
          "text": [
            "Toyota\n",
            "Car make: Toyota, Model: Corolla\n"
          ]
        }
      ]
    },
    {
      "cell_type": "markdown",
      "source": [
        "**2.Private Attributes and Methods:**\n",
        "\n",
        "- Private attributes and methods are defined by prefixing their names with double underscores (__). This is a convention in Python that helps to prevent accidental modification from outside the class.\n",
        "- Private members are not directly accessible outside the class. Instead, they can be accessed and modified using getter and setter methods, which control access to the private data."
      ],
      "metadata": {
        "id": "8k4V2DSP-jd4"
      }
    },
    {
      "cell_type": "code",
      "source": [
        "class Car:\n",
        "    def __init__(self, make, model):\n",
        "        self.__make = make  # Private attribute\n",
        "        self.__model = model  # Private attribute\n",
        "\n",
        "    def __display_info(self):\n",
        "        print(f\"Car make: {self.__make}, Model: {self.__model}\")  # Private method\n",
        "\n",
        "    def get_make(self):\n",
        "        return self.__make  # Getter method for private attribute\n",
        "\n",
        "    def set_make(self, make):\n",
        "        if make:  # Validation\n",
        "            self.__make = make  # Setter method for private attribute\n",
        "\n",
        "car = Car(\"Toyota\", \"Corolla\")\n",
        "# print(car.__make)  # Error: AttributeError: 'Car' object has no attribute '__make'\n",
        "print(car.get_make())  # Accessing private attribute via getter\n",
        "car.set_make(\"Honda\")  # Modifying private attribute via setter\n",
        "print(car.get_make())  # Accessing updated private attribute via getter\n"
      ],
      "metadata": {
        "colab": {
          "base_uri": "https://localhost:8080/"
        },
        "id": "yAMEte_Z-big",
        "outputId": "64161e43-4664-4f36-8761-3218dac3403f"
      },
      "execution_count": 9,
      "outputs": [
        {
          "output_type": "stream",
          "name": "stdout",
          "text": [
            "Toyota\n",
            "Honda\n"
          ]
        }
      ]
    },
    {
      "cell_type": "markdown",
      "source": [
        "**3.Name Mangling:**\n",
        "\n",
        "- Python uses name mangling to make private attributes and methods harder to access directly from outside the class. When an attribute or method is prefixed with double underscores (__), Python internally changes the name of that attribute by adding _ClassName in front of the attribute name. This is done to avoid accidental name conflicts in subclasses.\n",
        "\n",
        "\n",
        "For example, a private attribute __make in class Car will be internally changed to _Car__make."
      ],
      "metadata": {
        "id": "VWXvWDPD-1F4"
      }
    },
    {
      "cell_type": "code",
      "source": [
        "class Car:\n",
        "    def __init__(self, make, model):\n",
        "        self.__make = make  # Private attribute\n",
        "\n",
        "car = Car(\"Toyota\", \"Corolla\")\n",
        "# Accessing private attribute using name mangling\n",
        "print(car._Car__make)  # Accessing the private attribute directly using name mangling\n"
      ],
      "metadata": {
        "colab": {
          "base_uri": "https://localhost:8080/"
        },
        "id": "JtcSVQQI-zkb",
        "outputId": "bf9198f9-14dd-4ef9-f45e-f786d22ea62f"
      },
      "execution_count": 10,
      "outputs": [
        {
          "output_type": "stream",
          "name": "stdout",
          "text": [
            "Toyota\n"
          ]
        }
      ]
    },
    {
      "cell_type": "markdown",
      "source": [
        "**4.Protected Attributes and Methods:**\n",
        "\n",
        "- Python does not have a true \"protected\" keyword like some other OOP languages (e.g., Java). However, a convention is used to indicate that an attribute or method is protected by prefixing the name with a single underscore (_).\n",
        "- Protected members are intended to be accessed only within the class and its subclasses. While this is not enforced by the language (i.e., it's just a convention), it indicates that these members should not be accessed directly from outside the class or subclass."
      ],
      "metadata": {
        "id": "R0c6spVT_Q8t"
      }
    },
    {
      "cell_type": "code",
      "source": [
        "class Animal:\n",
        "    def __init__(self, name):\n",
        "        self._name = name  # Protected attribute\n",
        "\n",
        "    def _speak(self):  # Protected method\n",
        "        print(f\"{self._name} makes a sound.\")\n",
        "\n",
        "class Dog(Animal):\n",
        "    def __init__(self, name):\n",
        "        super().__init__(name)\n",
        "\n",
        "    def _speak(self):  # Overriding protected method\n",
        "        print(f\"{self._name} barks.\")\n",
        "\n",
        "dog = Dog(\"Rex\")\n",
        "dog._speak()  # Accessing protected method within a subclass\n"
      ],
      "metadata": {
        "colab": {
          "base_uri": "https://localhost:8080/"
        },
        "id": "aukcWWrW_CNF",
        "outputId": "672fcc10-4b1b-4fdc-d298-0d8d7edabd5e"
      },
      "execution_count": 11,
      "outputs": [
        {
          "output_type": "stream",
          "name": "stdout",
          "text": [
            "Rex barks.\n"
          ]
        }
      ]
    },
    {
      "cell_type": "markdown",
      "source": [
        "**9.What is a constructor in Python?**"
      ],
      "metadata": {
        "id": "blaQZnvH_j0s"
      }
    },
    {
      "cell_type": "markdown",
      "source": [
        "In Python, a constructor is a special method used to initialize a newly created object. It is called automatically when a new instance of a class is created. The constructor method in Python is always named __init__().\n",
        "\n",
        "**Key Points about Constructors in Python:**\n",
        "\n",
        "\n",
        "1.Purpose: The primary purpose of a constructor is to set up the initial state of an object by initializing its attributes.\n",
        "\n",
        "2.Automatic Invocation: When an object of a class is created, the constructor is automatically called to initialize the object's state.\n",
        "\n",
        "3.Self Parameter: The constructor always takes at least one argument, which is conventionally named self. This self parameter refers to the instance of the object being created. Through self, the constructor can assign values to the instance's attributes.\n",
        "\n",
        "4.Syntax: The constructor is defined using the __init__ method, and it is always called when an object of that class is instantiated.\n",
        "\n",
        "**Syntax:**"
      ],
      "metadata": {
        "id": "yTN3doTh_xum"
      }
    },
    {
      "cell_type": "code",
      "source": [
        "class ClassName:\n",
        "    def __init__(self, parameter1, parameter2):\n",
        "        # Initialization code\n",
        "        self.attribute1 = parameter1\n",
        "        self.attribute2 = parameter2\n"
      ],
      "metadata": {
        "id": "I0k5pz-v_dVt"
      },
      "execution_count": 12,
      "outputs": []
    },
    {
      "cell_type": "markdown",
      "source": [
        "**Example of a Constructor in Python:**"
      ],
      "metadata": {
        "id": "u39g3vU_AI3z"
      }
    },
    {
      "cell_type": "code",
      "source": [
        "class Car:\n",
        "    def __init__(self, make, model, year):\n",
        "        self.make = make\n",
        "        self.model = model\n",
        "        self.year = year\n",
        "\n",
        "    def display_info(self):\n",
        "        print(f\"{self.year} {self.make} {self.model}\")\n",
        "\n",
        "# Creating an object of the Car class\n",
        "my_car = Car(\"Toyota\", \"Corolla\", 2021)\n",
        "\n",
        "# Calling the method to display the car's information\n",
        "my_car.display_info()\n"
      ],
      "metadata": {
        "colab": {
          "base_uri": "https://localhost:8080/"
        },
        "id": "ScAi_LkoAGE7",
        "outputId": "8f07112e-03d3-4fdb-e3f1-fbc479cdef6a"
      },
      "execution_count": 13,
      "outputs": [
        {
          "output_type": "stream",
          "name": "stdout",
          "text": [
            "2021 Toyota Corolla\n"
          ]
        }
      ]
    },
    {
      "cell_type": "markdown",
      "source": [
        "**10.What are class and static methods in Python?**"
      ],
      "metadata": {
        "id": "T3DsBSO5AT_Z"
      }
    },
    {
      "cell_type": "markdown",
      "source": [
        "In Python, class methods and static methods are two types of methods that belong to a class, but they differ in how they are called and what they operate on. Here's a detailed explanation of both:\n",
        "\n",
        "**1. Class Method:**\n",
        "\n",
        "\n",
        "\n",
        "\n",
        "A class method is a method that is bound to the class and not to the instance of the class. It can modify class state that applies across all instances of the class.\n",
        "\n",
        "- Syntax: A class method is defined using the @classmethod decorator.\n",
        "- First parameter: The first parameter of a class method is cls, which represents the class itself. This is similar to how instance methods use self to represent the instance of the class.\n",
        "\n",
        "\n",
        "\n",
        "\n",
        "**Key Points about Class Methods:**\n",
        "\n",
        "\n",
        "- They can access and modify class-level attributes.\n",
        "- They cannot access or modify instance-level attributes.\n",
        "- They are called on the class itself, not on instances of the class.\n",
        "\n",
        "\n",
        "Example of a Class Method:"
      ],
      "metadata": {
        "id": "C1KXXNOsAeYs"
      }
    },
    {
      "cell_type": "code",
      "source": [
        "class Employee:\n",
        "    company = \"XYZ Ltd\"  # Class attribute\n",
        "\n",
        "    def __init__(self, name, position):\n",
        "        self.name = name  # Instance attribute\n",
        "        self.position = position  # Instance attribute\n",
        "\n",
        "    @classmethod\n",
        "    def change_company(cls, new_company):\n",
        "        cls.company = new_company  # Modify class-level attribute\n",
        "\n",
        "    def display_info(self):\n",
        "        print(f\"Name: {self.name}, Position: {self.position}, Company: {self.company}\")\n",
        "\n",
        "# Creating an object of Employee\n",
        "emp1 = Employee(\"Alice\", \"Manager\")\n",
        "emp2 = Employee(\"Bob\", \"Developer\")\n",
        "\n",
        "# Before changing the company\n",
        "emp1.display_info()  # Output: Name: Alice, Position: Manager, Company: XYZ Ltd\n",
        "emp2.display_info()  # Output: Name: Bob, Position: Developer, Company: XYZ Ltd\n",
        "\n",
        "# Changing the company using the class method\n",
        "Employee.change_company(\"ABC Corp\")\n",
        "\n",
        "# After changing the company\n",
        "emp1.display_info()  # Output: Name: Alice, Position: Manager, Company: ABC Corp\n",
        "emp2.display_info()  # Output: Name: Bob, Position: Developer, Company: ABC Corp\n"
      ],
      "metadata": {
        "colab": {
          "base_uri": "https://localhost:8080/"
        },
        "id": "y0YJ7xfxAM5V",
        "outputId": "006381c4-700e-4f8f-dc5e-1a4a8a5cd506"
      },
      "execution_count": 14,
      "outputs": [
        {
          "output_type": "stream",
          "name": "stdout",
          "text": [
            "Name: Alice, Position: Manager, Company: XYZ Ltd\n",
            "Name: Bob, Position: Developer, Company: XYZ Ltd\n",
            "Name: Alice, Position: Manager, Company: ABC Corp\n",
            "Name: Bob, Position: Developer, Company: ABC Corp\n"
          ]
        }
      ]
    },
    {
      "cell_type": "markdown",
      "source": [
        "**2. Static Method:**\n",
        "\n",
        "\n",
        "A static method is a method that does not take either a self or cls parameter. It behaves like a regular function, but it belongs to the class’s namespace. Static methods do not access or modify class-level or instance-level attributes. They are primarily used for utility functions that are related to the class but don't require access to any instance or class-specific data.\n",
        "\n",
        "- Syntax: A static method is defined using the @staticmethod decorator.\n",
        "- No self or cls parameter: Static methods do not take self or cls as their first parameter because they are not bound to the instance or class.\n",
        "\n",
        "\n",
        "**Key Points about Static Methods:**\n",
        "\n",
        "- They are independent of the class and instance.\n",
        "- They do not modify or access the class or instance state.\n",
        "- They can be called using the class name or an instance, but they are often called using the class name.\n",
        "\n",
        "\n",
        "Example of a Static Method:"
      ],
      "metadata": {
        "id": "rye9UjA_A_rc"
      }
    },
    {
      "cell_type": "code",
      "source": [
        "class Calculator:\n",
        "\n",
        "    @staticmethod\n",
        "    def add(a, b):\n",
        "        return a + b\n",
        "\n",
        "    @staticmethod\n",
        "    def multiply(a, b):\n",
        "        return a * b\n",
        "\n",
        "# Calling static methods without creating an instance\n",
        "result_add = Calculator.add(5, 3)\n",
        "result_multiply = Calculator.multiply(4, 6)\n",
        "\n",
        "print(f\"Addition result: {result_add}\")  # Output: Addition result: 8\n",
        "print(f\"Multiplication result: {result_multiply}\")  # Output: Multiplication result: 24\n"
      ],
      "metadata": {
        "colab": {
          "base_uri": "https://localhost:8080/"
        },
        "id": "Hcz6iceYA3GR",
        "outputId": "c8834815-440c-402e-aa1f-585ce0c26b7e"
      },
      "execution_count": 15,
      "outputs": [
        {
          "output_type": "stream",
          "name": "stdout",
          "text": [
            "Addition result: 8\n",
            "Multiplication result: 24\n"
          ]
        }
      ]
    },
    {
      "cell_type": "markdown",
      "source": [
        "**When to Use Class Methods and Static Methods:**\n",
        "- Class Methods:\n",
        "\n",
        "- Use when you need to operate on class-level data (i.e., data that is shared by all instances of the class).\n",
        "- They are useful for factory methods, where you create an instance of the class in a particular way.\n",
        "- You need to access or modify class-level variables, for example, altering the behavior of the class based on the current state of the class.\n",
        "\n",
        "\n",
        "**Static Methods:**\n",
        "\n",
        "- Use when you have a function that logically belongs to the class but doesn't need to access or modify class or instance attributes.\n",
        "- They are useful for utility functions that are related to the class but are independent of class or instance state."
      ],
      "metadata": {
        "id": "LODPsLDGBd-O"
      }
    },
    {
      "cell_type": "markdown",
      "source": [
        "**11.What is method overloading in Python?**"
      ],
      "metadata": {
        "id": "l5ShPF9hB5ka"
      }
    },
    {
      "cell_type": "markdown",
      "source": [
        "In Python, method overloading refers to the ability to define multiple methods with the same name but with different argument signatures (i.e., different numbers or types of parameters). However, unlike some other programming languages (such as Java or C++), Python does not support traditional method overloading. In Python, you can define only one method with a given name, and if you define multiple methods with the same name, the last one defined will override the previous ones.\n",
        "\n",
        "**How Python Handles Method Overloading:**\n",
        "\n",
        "\n",
        "While Python does not support method overloading in the traditional sense, you can achieve similar behavior by using:\n",
        "\n",
        "1.Default Arguments: You can use default values for arguments so that a method can work with different numbers of arguments.\n",
        "\n",
        "\n",
        "2.Variable-Length Arguments: You can use *args and **kwargs to handle variable numbers of positional and keyword arguments, allowing a method to accept different kinds of input.\n",
        "\n",
        "\n",
        "3.Conditional Logic: You can implement custom logic inside the method to handle different types or numbers of arguments.\n",
        "\n",
        "\n",
        "\n",
        "\n",
        "**1. Method Overloading with Default Arguments:**\n",
        "\n",
        "\n",
        "\n",
        "\n",
        "By using default arguments, you can simulate method overloading by allowing a method to handle different numbers of arguments.\n",
        "\n",
        "Example with Default Arguments:\n"
      ],
      "metadata": {
        "id": "3KUA9iIXCHFx"
      }
    },
    {
      "cell_type": "code",
      "source": [
        "class Calculator:\n",
        "\n",
        "    def add(self, a, b=0, c=0):  # Default arguments for b and c\n",
        "        return a + b + c\n",
        "\n",
        "# Creating an object of Calculator\n",
        "calc = Calculator()\n",
        "\n",
        "# Calling the method with different numbers of arguments\n",
        "print(calc.add(5))        # Output: 5 (a=5, b=0, c=0)\n",
        "print(calc.add(5, 3))     # Output: 8 (a=5, b=3, c=0)\n",
        "print(calc.add(5, 3, 2))  # Output: 10 (a=5, b=3, c=2)\n"
      ],
      "metadata": {
        "colab": {
          "base_uri": "https://localhost:8080/"
        },
        "id": "K95slBYABckj",
        "outputId": "3062a4f6-5f71-44d8-ca6e-a4c26c32319f"
      },
      "execution_count": 16,
      "outputs": [
        {
          "output_type": "stream",
          "name": "stdout",
          "text": [
            "5\n",
            "8\n",
            "10\n"
          ]
        }
      ]
    },
    {
      "cell_type": "markdown",
      "source": [
        "2. **Method Overloading with Variable-Length Arguments** (*args and**kwargs):\n",
        "\n",
        "Another approach is to use *args (for variable-length positional arguments) and **kwargs (for variable-length keyword arguments). This allows you to pass any number of arguments to the method, and then you can process them as needed inside the method.\n",
        "\n",
        "Example with *args and **kwargs:"
      ],
      "metadata": {
        "id": "y-nWR0zVCu5w"
      }
    },
    {
      "cell_type": "code",
      "source": [
        "class Calculator:\n",
        "\n",
        "    def add(self, *args):  # Using *args to accept any number of arguments\n",
        "        return sum(args)\n",
        "\n",
        "# Creating an object of Calculator\n",
        "calc = Calculator()\n",
        "\n",
        "# Calling the method with different numbers of arguments\n",
        "print(calc.add(5))          # Output: 5 (single argument)\n",
        "print(calc.add(5, 3))       # Output: 8 (two arguments)\n",
        "print(calc.add(5, 3, 2))    # Output: 10 (three arguments)\n",
        "print(calc.add(5, 3, 2, 7)) # Output: 17 (four arguments)\n"
      ],
      "metadata": {
        "colab": {
          "base_uri": "https://localhost:8080/"
        },
        "id": "ZQWZsTFDCrEf",
        "outputId": "6fed21ee-f095-4341-b22b-143062eece87"
      },
      "execution_count": 17,
      "outputs": [
        {
          "output_type": "stream",
          "name": "stdout",
          "text": [
            "5\n",
            "8\n",
            "10\n",
            "17\n"
          ]
        }
      ]
    },
    {
      "cell_type": "markdown",
      "source": [
        "**3.Method Overloading with Conditional Logic:**\n",
        "\n",
        "You can also use conditional logic within the method to handle different types of arguments or argument counts. This can help you simulate method overloading in situations where you might need to handle different kinds of input in a custom way.\n",
        "\n",
        "Example with Conditional Logic:"
      ],
      "metadata": {
        "id": "uCTDCyaTEAOJ"
      }
    },
    {
      "cell_type": "code",
      "source": [
        "class Calculator:\n",
        "\n",
        "    def add(self, *args):\n",
        "        if len(args) == 1:\n",
        "            return args[0]  # Return the single value if one argument is passed\n",
        "        elif len(args) == 2:\n",
        "            return args[0] + args[1]  # Sum two values if two arguments are passed\n",
        "        elif len(args) > 2:\n",
        "            return sum(args)  # Sum all arguments if more than two are passed\n",
        "\n",
        "# Creating an object of Calculator\n",
        "calc = Calculator()\n",
        "\n",
        "# Calling the method with different numbers of arguments\n",
        "print(calc.add(5))         # Output: 5 (one argument)\n",
        "print(calc.add(5, 3))      # Output: 8 (two arguments)\n",
        "print(calc.add(5, 3, 2))   # Output: 10 (three arguments)\n",
        "print(calc.add(5, 3, 2, 7)) # Output: 17 (four arguments)\n"
      ],
      "metadata": {
        "colab": {
          "base_uri": "https://localhost:8080/"
        },
        "id": "_OYmmbhbD_JB",
        "outputId": "fe4cecab-be38-47aa-e083-9bb229bf7635"
      },
      "execution_count": 18,
      "outputs": [
        {
          "output_type": "stream",
          "name": "stdout",
          "text": [
            "5\n",
            "8\n",
            "10\n",
            "17\n"
          ]
        }
      ]
    },
    {
      "cell_type": "markdown",
      "source": [
        "**12. What is method overriding in OOP?**"
      ],
      "metadata": {
        "id": "i8y5Kcd7Ec5u"
      }
    },
    {
      "cell_type": "markdown",
      "source": [
        "Method overriding is a concept in Object-Oriented Programming (OOP) where a subclass provides its own implementation of a method that is already defined in its superclass. The overriding method in the subclass has the same name, same parameters (signature), and typically changes or extends the behavior of the original method.\n",
        "\n",
        "**Key Points about Method Overriding:**\n",
        "\n",
        "\n",
        "\n",
        "1.Occurs in Inheritance: Method overriding happens when a subclass inherits from a superclass and provides a new definition of a method that is already defined in the superclass.\n",
        "\n",
        "\n",
        "2.Same Method Signature: The method in the subclass that overrides the superclass method must have the same name and parameters as the method in the superclass.\n",
        "\n",
        "\n",
        "3.Polymorphism: Method overriding is an example of polymorphism, where the method call is dynamically bound to the method in the subclass at runtime, rather than at compile time.\n",
        "\n",
        "\n",
        "4.Overriding vs. Overloading: Unlike method overloading, where you define methods with the same name but different parameters (number/type), method overriding involves redefining an existing method to provide different behavior.\n",
        "\n",
        "\n",
        "**Why Method Overriding?**\n",
        "\n",
        "\n",
        "- Customization: Method overriding allows subclasses to tailor or extend the behavior of inherited methods without changing the superclass's code.\n",
        "- Dynamic Polymorphism: It enables the use of the same method name but provides different implementations based on the object type (i.e., the actual class of the object, not the reference type).\n",
        "\n",
        "\n",
        "\n",
        "**How Does Method Overriding Work?**\n",
        "\n",
        "\n",
        "When a method is overridden in a subclass, the subclass's version of the method is called when invoked on an object of the subclass, even if the object is referenced by a variable of the superclass type. This is known as dynamic dispatch or runtime polymorphism.\n",
        "\n",
        "**Example of Method Overriding in Python:**"
      ],
      "metadata": {
        "id": "hvgCiNP7ErrW"
      }
    },
    {
      "cell_type": "code",
      "source": [
        "class Animal:\n",
        "    def speak(self):\n",
        "        print(\"Animal makes a sound\")\n",
        "\n",
        "class Dog(Animal):\n",
        "    def speak(self):\n",
        "        print(\"Dog barks\")\n",
        "\n",
        "class Cat(Animal):\n",
        "    def speak(self):\n",
        "        print(\"Cat meows\")\n",
        "\n",
        "# Creating instances of the classes\n",
        "animal = Animal()\n",
        "dog = Dog()\n",
        "cat = Cat()\n",
        "\n",
        "# Calling the speak method on each instance\n",
        "animal.speak()  # Output: Animal makes a sound\n",
        "dog.speak()     # Output: Dog barks\n",
        "cat.speak()     # Output: Cat meows\n"
      ],
      "metadata": {
        "colab": {
          "base_uri": "https://localhost:8080/"
        },
        "id": "6AXlTMQgESte",
        "outputId": "ee241b9a-a45f-48df-9d47-3e17e8d9b562"
      },
      "execution_count": 19,
      "outputs": [
        {
          "output_type": "stream",
          "name": "stdout",
          "text": [
            "Animal makes a sound\n",
            "Dog barks\n",
            "Cat meows\n"
          ]
        }
      ]
    },
    {
      "cell_type": "markdown",
      "source": [
        "**Rules for Method Overriding:**\n",
        "\n",
        "\n",
        "1.Same Method Name: The method in the subclass must have the same name as the method in the superclass.\n",
        "\n",
        "\n",
        "2.Same Parameters (Signature): The method in the subclass must have the same parameters as the one in the superclass (this includes the number and type of arguments).\n",
        "\n",
        "\n",
        "3.Access Level: The overriding method in the subclass cannot have a more restrictive access level than the method in the superclass. For instance, if the superclass method is public, the subclass method should also be public.\n",
        "\n",
        "\n",
        "4.Use of super(): In some cases, the subclass may want to call the superclass's version of the overridden method. This can be done using the super() function."
      ],
      "metadata": {
        "id": "0c5AcWAoFexw"
      }
    },
    {
      "cell_type": "markdown",
      "source": [
        "**13. What is a property decorator in Python?**"
      ],
      "metadata": {
        "id": "x4mwYE36FyKX"
      }
    },
    {
      "cell_type": "markdown",
      "source": [
        "In Python, the property decorator is used to define a method as a getter for a property, allowing you to access it as if it were an attribute. This allows for controlled access to an instance's attributes, encapsulating the internal workings of the class while providing a clean, attribute-like interface to users of the class.\n",
        "\n",
        "**Key Points About property Decorator:**\n",
        "\n",
        "\n",
        "\n",
        "1.Getter Method: It is used to define a method that behaves like an attribute. It lets you get the value of an attribute but allows you to control what happens when the attribute is accessed.\n",
        "\n",
        "\n",
        "2.Setter and Deleter Methods: The property decorator can also be used to define setter and deleter methods, enabling control over setting or deleting an attribute.\n",
        "\n",
        "\n",
        "3.Encapsulation: Using the property decorator, you can encapsulate the internal state of an object while still providing access to its values, offering better control over how attributes are accessed or modified.\n",
        "\n",
        "\n",
        "**Syntax of property Decorator:**\n",
        "\n",
        "\n",
        "The property decorator is typically used in three parts:\n",
        "\n",
        "- Getter: Retrieves the value of a property.\n",
        "- Setter: Defines how the property should be set.\n",
        "- Deleter: Defines how the property should be deleted (optional).\n",
        "\n",
        "**Example of Using property Decorator:**"
      ],
      "metadata": {
        "id": "e3VgR-vFGOFN"
      }
    },
    {
      "cell_type": "code",
      "source": [
        "class Circle:\n",
        "    def __init__(self, radius):\n",
        "        self._radius = radius\n",
        "\n",
        "    @property\n",
        "    def radius(self):\n",
        "        return self._radius\n",
        "\n",
        "    @radius.setter\n",
        "    def radius(self, value):\n",
        "        if value <= 0:\n",
        "            raise ValueError(\"Radius must be positive\")\n",
        "        self._radius = value\n",
        "\n",
        "    @property\n",
        "    def area(self):\n",
        "        return 3.14 * (self._radius ** 2)\n",
        "\n",
        "# Creating an object of Circle\n",
        "circle = Circle(5)\n",
        "\n",
        "# Accessing the radius using the property\n",
        "print(circle.radius)  # Output: 5\n",
        "\n",
        "# Setting the radius using the setter\n",
        "circle.radius = 10\n",
        "\n",
        "# Accessing the computed area\n",
        "print(circle.area)  # Output: 314.0\n",
        "\n",
        "# Trying to set an invalid radius (will raise an error)\n",
        "# circle.radius = -1  # Uncomment to see the error: ValueError: Radius must be positive\n"
      ],
      "metadata": {
        "colab": {
          "base_uri": "https://localhost:8080/"
        },
        "id": "bFugqI0uFW5s",
        "outputId": "6fdc783f-bfef-41bf-b98d-055b09348c77"
      },
      "execution_count": 20,
      "outputs": [
        {
          "output_type": "stream",
          "name": "stdout",
          "text": [
            "5\n",
            "314.0\n"
          ]
        }
      ]
    },
    {
      "cell_type": "markdown",
      "source": [
        "**Benefits of Using property:**\n",
        "\n",
        "\n",
        "1.Encapsulation: You can control access to instance attributes by making them private (e.g., with a leading underscore) and then providing getter, setter, and deleter methods that interact with those private attributes.\n",
        "\n",
        "\n",
        "2.Validation: The setter allows you to add validation logic before updating an attribute.\n",
        "\n",
        "3.Computed Attributes: The property decorator allows you to define attributes that are calculated dynamically based on other attributes.\n",
        "\n",
        "\n",
        "4.Cleaner Code: It allows you to access and modify attributes in a clean and consistent way, while still maintaining full control over how the attribute is handled internally."
      ],
      "metadata": {
        "id": "poow3L4zG0Zt"
      }
    },
    {
      "cell_type": "markdown",
      "source": [
        "**14.Why is polymorphism important in OOP?**"
      ],
      "metadata": {
        "id": "hRlLlHIJHFp8"
      }
    },
    {
      "cell_type": "markdown",
      "source": [
        "Polymorphism is a core concept in Object-Oriented Programming (OOP) and plays a significant role in making the code more flexible, maintainable, and reusable. The term polymorphism comes from Greek, meaning \"many shapes\" or \"many forms.\" In OOP, polymorphism refers to the ability of different classes to provide a method or function with the same name but with different implementations. It allows objects of different types to be treated as objects of a common superclass, typically through a shared interface.\n",
        "\n",
        "**Why is Polymorphism Important in OOP?**\n",
        "\n",
        "\n",
        "\n",
        "1.Code Reusability: Polymorphism allows you to write more generic and reusable code. Instead of writing separate functions or methods for each type of object, you can use the same method name and allow different classes to implement it in their own way. This reduces redundancy and promotes code reuse.\n",
        "\n",
        "- Example: A function can accept objects of different types (such as a Dog, Cat, or Bird) and invoke their make_sound method. The appropriate implementation for each type is called dynamically, allowing code to work with any animal without knowing the specific class.\n",
        "\n",
        "\n",
        "2.Extensibility and Maintainability: Polymorphism allows new classes to be added to a system without changing the existing code. As long as the new class adheres to the same interface (i.e., it implements the required method), the existing functions or methods will work with the new class. This makes the system more extensible and easier to maintain.\n",
        "\n",
        "- Example: Adding a Bird class with the make_sound method doesn't require changing the existing animal_sound function. It will automatically support the new Bird type.\n",
        "\n",
        "\n",
        "3.Dynamic Method Dispatch: Polymorphism allows the appropriate method to be called based on the object's runtime type, not its reference type. This is also known as dynamic method dispatch or late binding. This behavior is a key aspect of runtime polymorphism (commonly seen in method overriding).\n",
        "\n",
        "- Example: If you have a reference to a Bird object but treat it as an Animal, polymorphism ensures that the correct make_sound method is called based on the actual object type, not the reference type.\n",
        "\n",
        "4.Simplified Code: Polymorphism enables simpler, more readable, and less error-prone code. Instead of using long if or switch statements to decide which behavior to execute based on the type of the object, polymorphism allows you to call methods directly on objects and let the appropriate class handle the specifics.\n",
        "\n",
        "- Example: Without polymorphism, you might have to check the object's type and then perform different actions. With polymorphism, the system automatically handles the correct behavior by calling the method on the object.\n",
        "\n",
        "\n",
        "5.Interface Consistency: Polymorphism helps ensure that objects of different classes can interact with one another in a consistent manner. As long as objects adhere to a common interface (e.g., they implement a common method), they can be used interchangeably. This leads to more predictable and uniform behavior across various parts of the codebase.\n",
        "\n",
        "6.Improved Code Flexibility: With polymorphism, objects can be passed around and manipulated without needing to know their exact class. This makes the code more flexible because you can write methods or functions that operate on objects of any class as long as they implement the required methods or properties.\n",
        "\n",
        "- Example: A function that accepts objects of a general Shape class and calls the draw method will work for all types of shapes (Circle, Rectangle, Triangle, etc.) as long as they all implement draw.\n",
        "\n",
        "7.Enhanced Testing and Mocking: When polymorphism is used, objects can be easily replaced with mock objects during testing. For instance, you can substitute a Dog object with a mock object of the same class during testing to simulate behavior and test your code more easily."
      ],
      "metadata": {
        "id": "P3JcnPUQHUeP"
      }
    },
    {
      "cell_type": "markdown",
      "source": [
        "**15.What is an abstract class in Python?**"
      ],
      "metadata": {
        "id": "jH0S83ZEIJE0"
      }
    },
    {
      "cell_type": "markdown",
      "source": [
        "In Python, an abstract class is a class that cannot be instantiated directly and is meant to be subclassed by other classes. It defines a common interface for its subclasses but may not implement all the methods itself. Instead, abstract methods are defined in the abstract class, and it is the responsibility of the subclass to provide the concrete implementation of those methods.\n",
        "\n",
        "**Key Features of Abstract Classes:**\n",
        "\n",
        "\n",
        "\n",
        "1.Cannot be Instantiated: You cannot create an object of an abstract class directly. You need to create a subclass that implements the abstract methods.\n",
        "\n",
        "\n",
        "2.Abstract Methods: An abstract class can contain abstract methods, which are methods that are declared in the abstract class but don't have any implementation. These must be implemented by any non-abstract subclass.\n",
        "\n",
        "\n",
        "3.Provides a Template: An abstract class serves as a template for subclasses, ensuring that they implement certain methods while allowing for flexibility in the implementation.\n",
        "\n",
        "\n",
        "4.Supports Inheritance: Abstract classes can be inherited by other classes, and these subclasses must implement the abstract methods defined in the abstract class (unless the subclass is also abstract).\n",
        "\n",
        "\n",
        "\n",
        "**Creating an Abstract Class in Python:**\n",
        "\n",
        "\n",
        "To create an abstract class, you use the abc (Abstract Base Class) module, which provides the infrastructure for defining abstract classes and methods.\n",
        "\n",
        "Here is the general approach:\n",
        "\n",
        "1. ABC class: Inherit from abc.ABC.\n",
        "2. @abstractmethod decorator: Use this decorator to mark a method as abstract.\n",
        "\n",
        "**Example of an Abstract Class in Python:**"
      ],
      "metadata": {
        "id": "8W74lf-nIWPv"
      }
    },
    {
      "cell_type": "code",
      "source": [
        "from abc import ABC, abstractmethod\n",
        "\n",
        "# Abstract class\n",
        "class Animal(ABC):\n",
        "    @abstractmethod\n",
        "    def speak(self):\n",
        "        pass\n",
        "\n",
        "    @abstractmethod\n",
        "    def move(self):\n",
        "        pass\n",
        "\n",
        "# Concrete subclass that implements the abstract methods\n",
        "class Dog(Animal):\n",
        "    def speak(self):\n",
        "        print(\"Bark\")\n",
        "\n",
        "    def move(self):\n",
        "        print(\"Run\")\n",
        "\n",
        "# Concrete subclass that implements the abstract methods\n",
        "class Bird(Animal):\n",
        "    def speak(self):\n",
        "        print(\"Chirp\")\n",
        "\n",
        "    def move(self):\n",
        "        print(\"Fly\")\n",
        "\n",
        "# Creating instances of the concrete classes\n",
        "dog = Dog()\n",
        "dog.speak()  # Output: Bark\n",
        "dog.move()   # Output: Run\n",
        "\n",
        "bird = Bird()\n",
        "bird.speak()  # Output: Chirp\n",
        "bird.move()   # Output: Fly\n"
      ],
      "metadata": {
        "colab": {
          "base_uri": "https://localhost:8080/"
        },
        "id": "iQLomuPbGv7g",
        "outputId": "5a76fc52-54fc-464d-ee0c-674fcceb97b0"
      },
      "execution_count": 21,
      "outputs": [
        {
          "output_type": "stream",
          "name": "stdout",
          "text": [
            "Bark\n",
            "Run\n",
            "Chirp\n",
            "Fly\n"
          ]
        }
      ]
    },
    {
      "cell_type": "markdown",
      "source": [
        "**16.What are the advantages of OOP?**"
      ],
      "metadata": {
        "id": "SX844YKYJBoi"
      }
    },
    {
      "cell_type": "markdown",
      "source": [
        "Object-Oriented Programming (OOP) offers several advantages that make it a popular and effective programming paradigm. Here are the key benefits:\n",
        "\n",
        "**1. Modularity**\n",
        "\n",
        "\n",
        "- Description: In OOP, code is organized into discrete, self-contained units called objects or classes, which represent real-world entities or concepts.\n",
        "\n",
        "\n",
        "- Advantage: This modularity makes it easier to manage and maintain large codebases, as each module can be developed, tested, and modified independently without affecting other parts of the program. Objects can be reused in different contexts, increasing code reusability.\n",
        "\n",
        "**2. Reusability**\n",
        "\n",
        "\n",
        "- Description: OOP encourages the reuse of existing objects and code. Once a class is created, it can be reused in other programs or in other parts of the current program.\n",
        "\n",
        "\n",
        "- Advantage: This reduces redundancy and promotes a more efficient development process. Inheritance and polymorphism allow for the extension of existing classes, which means you don't need to duplicate code for new functionality.\n",
        "\n",
        "\n",
        "**3. Abstraction**\n",
        "\n",
        "\n",
        "- Description: OOP allows the creation of abstract classes and interfaces that hide complex implementation details and expose only essential features or behavior.\n",
        "\n",
        "- Advantage: This simplifies the use of complex systems by allowing the programmer to work at a higher level of abstraction, focusing only on the relevant aspects. It also ensures that implementation details are hidden from the user and cannot be accidentally modified.\n",
        "\n",
        "\n",
        "**4. Encapsulation**\n",
        "\n",
        "\n",
        "- Description: OOP promotes encapsulation, which is the practice of keeping data (attributes) and the methods that operate on the data (behavior) bundled together in a class.\n",
        "\n",
        "\n",
        "- Advantage: Encapsulation allows for better control over the data and reduces the likelihood of accidental data corruption or misuse. It also provides an easy way to safeguard the integrity of the data, using getters and setters, or by using private and protected access modifiers.\n",
        "\n",
        "\n",
        "**5. Inheritance**\n",
        "\n",
        "\n",
        "- Description: Inheritance allows one class (the subclass) to inherit the attributes and methods of another class (the superclass).\n",
        "\n",
        "\n",
        "- Advantage: This promotes code reuse and allows for the creation of new classes that are extensions or modifications of existing classes, reducing redundancy in the codebase. It also allows you to create a hierarchy, which makes it easier to model real-world relationships.\n",
        "\n",
        "\n",
        "**6. Polymorphism**\n",
        "\n",
        "\n",
        "- Description: Polymorphism allows different objects to respond to the same method call in a way that is appropriate to their own type. This can be achieved via method overriding (runtime polymorphism) or method overloading (compile-time polymorphism).\n",
        "\n",
        "\n",
        "- Advantage: Polymorphism simplifies code by allowing you to call the same method on objects of different classes. It promotes flexibility and scalability, making it easier to extend or modify the system without changing the code that uses these objects."
      ],
      "metadata": {
        "id": "aQ1KiYERJT4R"
      }
    },
    {
      "cell_type": "markdown",
      "source": [
        "**17.What is the difference between a class variable and an instance variable?**"
      ],
      "metadata": {
        "id": "W4RKAhd_Kcwj"
      }
    },
    {
      "cell_type": "markdown",
      "source": [
        "In Object-Oriented Programming (OOP), particularly in Python, class variables and instance variables are both used to store data, but they differ in terms of scope, behavior, and how they are accessed. Below is a detailed comparison of both:\n",
        "\n",
        "**1. Class Variable**\n",
        "\n",
        "\n",
        "- Definition: A class variable is a variable that is shared by all instances of the class. It is defined directly within the class, outside any instance methods (e.g., __init__), and it is accessible through both the class itself and its instances.\n",
        "\n",
        "- Scope: Class variables are shared by all objects (instances) of the class. Any change to a class variable affects all instances of that class.\n",
        "\n",
        "- Access: Class variables can be accessed by the class name or by instances of the class.\n",
        "\n",
        "- Usage: Class variables are typically used for values that are constant or need to be shared across all instances of the class.\n",
        "\n",
        "- Behavior: If a class variable is modified through an instance, it will only affect that instance's reference to the variable and not the class-level variable. To modify a class variable for all instances, you should modify it through the class itself.\n",
        "\n",
        "- Memory:Stored in memory once, shared by all instances.\n",
        "\n",
        "**2. Instance Variable**\n",
        "\n",
        "\n",
        "- Definition: An instance variable is a variable that is tied to a specific instance of the class. It is defined inside the __init__ method and is unique to each instance of the class.\n",
        "\n",
        "- Scope: Instance variables are specific to each object. Every instance of a class can have different values for instance variables.\n",
        "\n",
        "- Access: Instance variables are accessed using the object (instance) of the class.\n",
        "\n",
        "- Usage: Instance variables store data that is unique to each object created from the class.\n",
        "\n",
        "- Memory: Each instance has its own separate copy of instance variables.\n",
        "\n",
        "- Behavior: Instance variables are unique to each object, and changes to an instance variable affect only that specific instance.\n",
        "\n"
      ],
      "metadata": {
        "id": "okHvPj-OKmAb"
      }
    },
    {
      "cell_type": "markdown",
      "source": [
        "**18.What is multiple inheritance in Python?**"
      ],
      "metadata": {
        "id": "QAyT4t-zLscD"
      }
    },
    {
      "cell_type": "markdown",
      "source": [
        "Multiple inheritance in Python refers to the concept where a class can inherit attributes and methods from more than one parent class. This allows a class to combine the behavior of multiple classes, thereby gaining functionalities from all the parent classes it inherits from.\n",
        "\n",
        "**Key Features of Multiple Inheritance:**\n",
        "\n",
        "\n",
        "1.Single Child Class, Multiple Parents: A child class can inherit from more than one base class (parent class). This means the child class will have access to the methods and properties of all the parent classes.\n",
        "\n",
        "2.Method Resolution Order (MRO): Python uses a method resolution order (MRO) to determine the order in which base classes are searched when invoking a method. This order is determined using the C3 linearization algorithm. The MRO is important when there are multiple inheritance paths, to avoid ambiguity in method calls.\n",
        "\n",
        "**Example of Multiple Inheritance:**"
      ],
      "metadata": {
        "id": "eYQyJpTKL7bx"
      }
    },
    {
      "cell_type": "code",
      "source": [
        "class Animal:\n",
        "    def eat(self):\n",
        "        print(\"This animal eats food.\")\n",
        "\n",
        "class Flyable:\n",
        "    def fly(self):\n",
        "        print(\"This animal can fly.\")\n",
        "\n",
        "class Bat(Animal, Flyable):\n",
        "    def sound(self):\n",
        "        print(\"The bat makes a sound.\")\n",
        "\n",
        "# Create an instance of Bat\n",
        "bat = Bat()\n",
        "\n",
        "# Call methods from both parent classes and the child class\n",
        "bat.eat()    # From Animal class\n",
        "bat.fly()    # From Flyable class\n",
        "bat.sound()  # From Bat class\n"
      ],
      "metadata": {
        "colab": {
          "base_uri": "https://localhost:8080/"
        },
        "id": "a7L04JY7I4oD",
        "outputId": "0d919cd2-8fc6-48ee-b582-86167402a98e"
      },
      "execution_count": 22,
      "outputs": [
        {
          "output_type": "stream",
          "name": "stdout",
          "text": [
            "This animal eats food.\n",
            "This animal can fly.\n",
            "The bat makes a sound.\n"
          ]
        }
      ]
    },
    {
      "cell_type": "markdown",
      "source": [
        "**Advantages of Multiple Inheritance:**\n",
        "\n",
        "\n",
        "1.Code Reusability: It allows for combining functionalities of different classes, promoting reusability. You can mix and match behaviors from multiple classes, which can simplify the design of your application.\n",
        "\n",
        "\n",
        "2.Extensibility: If new features need to be added to a class, they can be done by inheriting from multiple classes that contain the new features, rather than rewriting the entire class.\n",
        "\n",
        "\n",
        "3.Real-World Modeling: Many real-world situations involve an entity that can exhibit behaviors from multiple sources. For instance, a FlyingCar could inherit from both Car and FlyingVehicle."
      ],
      "metadata": {
        "id": "NpNWeJkEMUES"
      }
    },
    {
      "cell_type": "markdown",
      "source": [
        "**19.Explain the purpose of ‘’__str__’ and ‘__repr__’ ‘ methods in Python?**"
      ],
      "metadata": {
        "id": "8SZv4MKgMhKw"
      }
    },
    {
      "cell_type": "markdown",
      "source": [
        "In Python, the __str__ and __repr__ methods are special (dunder) methods used to define how an object is represented as a string when it is printed or converted to a string. Although they serve similar purposes, they are used in different contexts and have different expectations for the output.\n",
        "\n",
        "**1. __str__ Method**\n",
        "\n",
        "\n",
        "The __str__ method is used to define a human-readable string representation of an object. It is called when you use the print() function or the str() function on an object. The goal of __str__ is to return a string that is easy to read and presents the object in a friendly way.\n",
        "\n",
        "- Purpose: It provides a user-friendly string representation of the object for display purposes.\n",
        "- When it's used: When you call str(object) or use the print() function with an object.\n",
        "Example of __str__:"
      ],
      "metadata": {
        "id": "xXZ5xIieMwEV"
      }
    },
    {
      "cell_type": "code",
      "source": [
        "class Dog:\n",
        "    def __init__(self, name, age):\n",
        "        self.name = name\n",
        "        self.age = age\n",
        "\n",
        "    def __str__(self):\n",
        "        return f\"{self.name} is {self.age} years old\"\n",
        "\n",
        "# Create an instance\n",
        "dog = Dog(\"Buddy\", 5)\n",
        "\n",
        "# Use print or str() function\n",
        "print(dog)  # Output: Buddy is 5 years old\n"
      ],
      "metadata": {
        "colab": {
          "base_uri": "https://localhost:8080/"
        },
        "id": "d9Bmic8FMPZ-",
        "outputId": "cf01f2be-80a4-4660-e77e-a58639790c9e"
      },
      "execution_count": 23,
      "outputs": [
        {
          "output_type": "stream",
          "name": "stdout",
          "text": [
            "Buddy is 5 years old\n"
          ]
        }
      ]
    },
    {
      "cell_type": "markdown",
      "source": [
        "**2. __repr__ Method**\n",
        "\n",
        "\n",
        "The __repr__ method is used to define a formal string representation of an object that could, in theory, be used to recreate the object. Its goal is to provide a representation that is unambiguous and can be useful for debugging or logging. This method is called when you use the repr() function or when you enter the object in an interactive session (e.g., in the Python shell).\n",
        "\n",
        "- Purpose: It provides a detailed or unambiguous string representation of the object, useful for debugging or logging.\n",
        "- When it's used: When you call repr(object) or when an object is displayed in an interactive shell.\n",
        "Example of __repr__:"
      ],
      "metadata": {
        "id": "H2ciynA4M9uy"
      }
    },
    {
      "cell_type": "code",
      "source": [
        "class Dog:\n",
        "    def __init__(self, name, age):\n",
        "        self.name = name\n",
        "        self.age = age\n",
        "\n",
        "    def __repr__(self):\n",
        "        return f\"Dog('{self.name}', {self.age})\"\n",
        "\n",
        "# Create an instance\n",
        "dog = Dog(\"Buddy\", 5)\n",
        "\n",
        "# Use repr function or display object in the shell\n",
        "print(repr(dog))  # Output: Dog('Buddy', 5)\n"
      ],
      "metadata": {
        "colab": {
          "base_uri": "https://localhost:8080/"
        },
        "id": "ajy3GYhDM6gJ",
        "outputId": "26729ca3-b75d-4f17-d39b-7edb3907fb7f"
      },
      "execution_count": 24,
      "outputs": [
        {
          "output_type": "stream",
          "name": "stdout",
          "text": [
            "Dog('Buddy', 5)\n"
          ]
        }
      ]
    },
    {
      "cell_type": "markdown",
      "source": [
        "**20.What is the significance of the ‘super()’ function in Python?**"
      ],
      "metadata": {
        "id": "MY4SLZ-kNUxI"
      }
    },
    {
      "cell_type": "markdown",
      "source": [
        "The super() function in Python is used to call a method from a parent (or superclass) class in a child (or subclass) class. It is a built-in function that allows you to invoke methods from a parent class without explicitly referring to the parent class name. This is particularly useful in inheritance and method overriding, as it provides a way to access methods and properties of the parent class in the subclass.\n",
        "\n",
        "**Significance and Uses of super():**\n",
        "\n",
        "\n",
        "1.Access Parent Class Methods: The super() function allows a subclass to call a method of its superclass, ensuring that inherited functionality from the superclass is not overwritten. This is especially useful when you override a method in the subclass but still want to invoke the parent class's version of the method.\n",
        "\n",
        "2.Multiple Inheritance: In multiple inheritance scenarios, super() is used to handle method resolution order (MRO). It ensures that the methods from all parent classes are called in the correct order, avoiding conflicts and ambiguity.\n",
        "\n",
        "3.Avoid Hard-Coding Class Names: By using super(), you can avoid hardcoding the name of the parent class, making the code more maintainable and flexible, especially when the class hierarchy changes or when the code is refactored.\n",
        "\n",
        "4.Calling the Constructor of the Parent Class: In the context of inheritance, super() is commonly used to call the constructor (__init__) of the parent class from the child class, ensuring that the parent class is properly initialized when an object of the child class is created.\n",
        "\n",
        "**Example of super() in Single Inheritance:**"
      ],
      "metadata": {
        "id": "gochT2WsNf1T"
      }
    },
    {
      "cell_type": "code",
      "source": [
        "class Animal:\n",
        "    def __init__(self, name):\n",
        "        self.name = name\n",
        "        print(f\"Animal {self.name} created\")\n",
        "\n",
        "    def speak(self):\n",
        "        print(f\"{self.name} makes a sound\")\n",
        "\n",
        "class Dog(Animal):\n",
        "    def __init__(self, name, breed):\n",
        "        # Call the __init__ method of the parent class\n",
        "        super().__init__(name)\n",
        "        self.breed = breed\n",
        "        print(f\"Dog breed: {self.breed}\")\n",
        "\n",
        "    def speak(self):\n",
        "        super().speak()  # Call the speak() method from Animal class\n",
        "        print(f\"{self.name} barks\")\n",
        "\n",
        "# Create an instance of Dog\n",
        "dog = Dog(\"Buddy\", \"Golden Retriever\")\n",
        "\n",
        "# Output:\n",
        "# Animal Buddy created\n",
        "# Dog breed: Golden Retriever\n",
        "# Buddy makes a sound\n",
        "# Buddy barks\n"
      ],
      "metadata": {
        "colab": {
          "base_uri": "https://localhost:8080/"
        },
        "id": "ffRQ43_RNIGC",
        "outputId": "151a3e08-b85e-4968-c8b2-003d1a96faa3"
      },
      "execution_count": 25,
      "outputs": [
        {
          "output_type": "stream",
          "name": "stdout",
          "text": [
            "Animal Buddy created\n",
            "Dog breed: Golden Retriever\n"
          ]
        }
      ]
    },
    {
      "cell_type": "markdown",
      "source": [
        "**Example of super() in Multiple Inheritance:**"
      ],
      "metadata": {
        "id": "4OJ8H5KeN1YC"
      }
    },
    {
      "cell_type": "code",
      "source": [
        "class A:\n",
        "    def method(self):\n",
        "        print(\"Method in class A\")\n",
        "\n",
        "class B(A):\n",
        "    def method(self):\n",
        "        print(\"Method in class B\")\n",
        "        super().method()  # Calls method from class A\n",
        "\n",
        "class C(A):\n",
        "    def method(self):\n",
        "        print(\"Method in class C\")\n",
        "        super().method()  # Calls method from class A\n",
        "\n",
        "class D(B, C):\n",
        "    def method(self):\n",
        "        print(\"Method in class D\")\n",
        "        super().method()  # Calls method from class B, and through it class C, and then class A\n",
        "\n",
        "# Create an instance of D\n",
        "d = D()\n",
        "d.method()\n",
        "\n",
        "# Output:\n",
        "# Method in class D\n",
        "# Method in class B\n",
        "# Method in class C\n",
        "# Method in class A\n"
      ],
      "metadata": {
        "colab": {
          "base_uri": "https://localhost:8080/"
        },
        "id": "AXzMAvV_NyYJ",
        "outputId": "a471ee76-bee4-459a-e864-1f2f9b1f196a"
      },
      "execution_count": 26,
      "outputs": [
        {
          "output_type": "stream",
          "name": "stdout",
          "text": [
            "Method in class D\n",
            "Method in class B\n",
            "Method in class C\n",
            "Method in class A\n"
          ]
        }
      ]
    },
    {
      "cell_type": "markdown",
      "source": [
        "**21.What is the significance of the __del__ method in Python?**"
      ],
      "metadata": {
        "id": "U2YUUsUQN-kB"
      }
    },
    {
      "cell_type": "markdown",
      "source": [
        "The __del__ method in Python is a special (dunder) method that is used for object destruction or finalization. It is called when an object is about to be destroyed, which typically occurs when there are no more references to the object, and Python’s garbage collector frees the memory associated with it.\n",
        "\n",
        "**Significance of __del__:**\n",
        "\n",
        "\n",
        "1.Object Cleanup: The __del__ method is useful when an object needs to clean up resources before it is destroyed. This is typically done when an object is holding onto resources like file handles, network connections, or database connections that need to be explicitly closed.\n",
        "\n",
        "2.Automatic Resource Management: By implementing the __del__ method, you can ensure that necessary cleanup actions are performed automatically when an object goes out of scope or is garbage collected. This can help prevent resource leaks in applications that work with external resources.\n",
        "\n",
        "3.Custom Cleanup Logic: The __del__ method provides a way for you to define custom logic to release or cleanup resources when the object is no longer needed.\n",
        "\n",
        "\n",
        "**Example of __del__:**"
      ],
      "metadata": {
        "id": "F0iHO4s9ONeN"
      }
    },
    {
      "cell_type": "code",
      "source": [
        "class MyClass:\n",
        "    def __init__(self, name):\n",
        "        self.name = name\n",
        "        print(f\"{self.name} object created\")\n",
        "\n",
        "    def __del__(self):\n",
        "        print(f\"{self.name} object is being deleted\")\n",
        "\n",
        "# Create an instance of MyClass\n",
        "obj = MyClass(\"TestObject\")\n",
        "\n",
        "# Delete the object manually (or it will be deleted automatically when it goes out of scope)\n",
        "del obj  # Output: TestObject object is being deleted\n"
      ],
      "metadata": {
        "colab": {
          "base_uri": "https://localhost:8080/"
        },
        "id": "krwihcSuN431",
        "outputId": "49c9a861-a3f6-4645-b333-c49bec80a583"
      },
      "execution_count": 27,
      "outputs": [
        {
          "output_type": "stream",
          "name": "stdout",
          "text": [
            "TestObject object created\n",
            "TestObject object is being deleted\n"
          ]
        }
      ]
    },
    {
      "cell_type": "markdown",
      "source": [
        "**Important Points about __del__:**\n",
        "\n",
        "\n",
        "1.Garbage Collection: The __del__ method is invoked when an object is about to be destroyed by Python’s garbage collection mechanism. However, the timing of when garbage collection occurs can vary, and Python’s memory management does not guarantee exactly when __del__ will be called.\n",
        "\n",
        "2.Circular References: If an object is part of a circular reference (i.e., two or more objects reference each other), Python’s garbage collector might not be able to detect the cycle immediately. As a result, the __del__ method may not be called if the objects in the cycle cannot be properly garbage collected.\n",
        "\n",
        "Python’s garbage collector uses reference counting and cycle detection to clean up objects, but objects involved in cycles may be delayed in being destroyed.\n",
        "\n",
        "3.Exceptions in __del__: If an exception occurs within the __del__ method, it is ignored, and Python does not raise an error. This means that you should avoid using __del__ for critical cleanup that requires error handling.\n",
        "\n",
        "4.Avoid Using __del__ for Resource Management: In modern Python programming, it is generally recommended to use context managers (with statement) and the __enter__ and __exit__ methods for managing resources like files or network connections, rather than relying solely on __del__. Context managers provide a more predictable and reliable way to manage resources, especially when exceptions occur.\n",
        "\n"
      ],
      "metadata": {
        "id": "rxbtX1ZmOkEv"
      }
    },
    {
      "cell_type": "markdown",
      "source": [
        "**22. What is the difference between @staticmethod and @classmethod in Python?**"
      ],
      "metadata": {
        "id": "5mb7OrXyO8f5"
      }
    },
    {
      "cell_type": "markdown",
      "source": [
        "In Python, both @staticmethod and @classmethod are decorators used to define methods that are bound to the class, rather than an instance of the class. However, they differ in their behavior and the way they access class and instance-level data. Let's explore their differences:\n",
        "\n",
        "**1. @staticmethod:**\n",
        "\n",
        "\n",
        "- Purpose: A @staticmethod is used to define a method that does not require access to the instance (self) or the class (cls). It is just a regular function inside a class that happens to be grouped with the class.\n",
        "- Access: A static method cannot access or modify instance attributes or class attributes. It works like a plain function, but it belongs to the class for organizational purposes.\n",
        "- Binding: It is not bound to an instance or a class. You call it using the class or an instance, but it doesn't receive any special arguments like self or cls.\n",
        "\n",
        "**Example of @staticmethod:**"
      ],
      "metadata": {
        "id": "5dgHMcmPPEYy"
      }
    },
    {
      "cell_type": "code",
      "source": [
        "class MathOperations:\n",
        "    @staticmethod\n",
        "    def add(a, b):\n",
        "        return a + b\n",
        "\n",
        "# Calling the static method\n",
        "result = MathOperations.add(5, 3)  # Output: 8\n"
      ],
      "metadata": {
        "id": "iNRsWQaSObiL"
      },
      "execution_count": 28,
      "outputs": []
    },
    {
      "cell_type": "markdown",
      "source": [
        "**2. @classmethod:**\n",
        "\n",
        "\n",
        "- Purpose: A @classmethod is used to define a method that takes the class (cls) as its first argument, rather than an instance (self). This method can modify class-level attributes or call other class methods, but it cannot modify instance-level attributes directly.\n",
        "- Access: A class method can access and modify class attributes, but it cannot access or modify instance attributes unless it explicitly receives an instance as an argument.\n",
        "- Binding: It is bound to the class and can be called using either the class or an instance.\n",
        "\n",
        "**Example of @classmethod:**"
      ],
      "metadata": {
        "id": "MyaW3_c0PVuK"
      }
    },
    {
      "cell_type": "code",
      "source": [
        "class MyClass:\n",
        "    count = 0\n",
        "\n",
        "    def __init__(self):\n",
        "        MyClass.count += 1\n",
        "\n",
        "    @classmethod\n",
        "    def show_count(cls):\n",
        "        print(f\"There are {cls.count} instances of MyClass.\")\n",
        "\n",
        "# Create instances\n",
        "obj1 = MyClass()\n",
        "obj2 = MyClass()\n",
        "\n",
        "# Calling the class method\n",
        "MyClass.show_count()  # Output: There are 2 instances of MyClass.\n"
      ],
      "metadata": {
        "colab": {
          "base_uri": "https://localhost:8080/"
        },
        "id": "3DZnRcxXPSY0",
        "outputId": "0d67c8d9-5fc0-45d9-cebd-1efc5feaa8e7"
      },
      "execution_count": 29,
      "outputs": [
        {
          "output_type": "stream",
          "name": "stdout",
          "text": [
            "There are 2 instances of MyClass.\n"
          ]
        }
      ]
    },
    {
      "cell_type": "markdown",
      "source": [
        "**23. How does polymorphism work in Python with inheritance?**"
      ],
      "metadata": {
        "id": "z7P3aBy2PsDA"
      }
    },
    {
      "cell_type": "markdown",
      "source": [
        "Polymorphism in Python, particularly with inheritance, refers to the ability of different classes to define methods that share the same name but have different behaviors. The core idea of polymorphism is that you can use a common interface (method name) across different classes, but the method implementations can vary depending on the class. This allows you to treat objects of different types in a uniform way while still preserving the ability to invoke different behaviors.\n",
        "\n",
        "In Python, polymorphism works through method overriding and dynamic method dispatch. When a subclass inherits from a superclass, it can override methods from the superclass to provide a specific implementation. At runtime, Python will call the correct method based on the object's actual class type, not the type of reference that holds the object.\n",
        "\n",
        "**Key Points of Polymorphism in Python with Inheritance:**\n",
        "\n",
        "\n",
        "1.Method Overriding: A subclass can override methods of the superclass to provide its own implementation.\n",
        "\n",
        "\n",
        "2.Dynamic Dispatch: Python determines which method to call based on the actual object type (not the reference type), enabling polymorphic behavior.\n",
        "\n",
        "\n",
        "**Example of Polymorphism with Inheritance:**\n",
        "\n",
        "\n",
        "Let's use a simple example of animals, where different animals (e.g., dog and cat) make different sounds.\n",
        "\n",
        "\n"
      ],
      "metadata": {
        "id": "s7xrcwP-P-QI"
      }
    },
    {
      "cell_type": "code",
      "source": [
        "# Superclass\n",
        "class Animal:\n",
        "    def speak(self):\n",
        "        print(\"Animal makes a sound\")\n",
        "\n",
        "# Subclass 1\n",
        "class Dog(Animal):\n",
        "    def speak(self):\n",
        "        print(\"Dog barks\")\n",
        "\n",
        "# Subclass 2\n",
        "class Cat(Animal):\n",
        "    def speak(self):\n",
        "        print(\"Cat meows\")\n",
        "\n",
        "# Polymorphism in action\n",
        "def animal_sound(animal):\n",
        "    animal.speak()  # Calls the correct 'speak' method based on the object type\n",
        "\n",
        "# Create instances of Dog and Cat\n",
        "dog = Dog()\n",
        "cat = Cat()\n",
        "\n",
        "# Polymorphic behavior\n",
        "animal_sound(dog)  # Output: Dog barks\n",
        "animal_sound(cat)  # Output: Cat meows\n"
      ],
      "metadata": {
        "colab": {
          "base_uri": "https://localhost:8080/"
        },
        "id": "SO8k5F5zPkcG",
        "outputId": "3d8f6688-6db1-4f4a-abd3-4e8757566bc0"
      },
      "execution_count": 30,
      "outputs": [
        {
          "output_type": "stream",
          "name": "stdout",
          "text": [
            "Dog barks\n",
            "Cat meows\n"
          ]
        }
      ]
    },
    {
      "cell_type": "markdown",
      "source": [
        "**24.What is method chaining in Python OOP?**"
      ],
      "metadata": {
        "id": "0uZlQGnjQTlz"
      }
    },
    {
      "cell_type": "markdown",
      "source": [
        "Method chaining in Python Object-Oriented Programming (OOP) is a programming technique where multiple methods are called on the same object in a single line of code. Each method returns the object itself (or another object that supports further method calls), allowing the next method to be called on the result.\n",
        "\n",
        "The key idea is that each method returns the object, so you can \"chain\" multiple method calls together in a single expression, leading to more concise and readable code.\n",
        "\n",
        "**How Method Chaining Works:**\n",
        "\n",
        "\n",
        "1.Returning self: In method chaining, each method typically returns the object itself (self), allowing you to call the next method on that object in the chain.\n",
        "\n",
        "\n",
        "2.Fluent Interface: This technique often results in a fluent interface, which allows for more readable code, especially when setting multiple properties or invoking multiple operations.\n",
        "\n",
        "\n",
        "**Example of Method Chaining:**\n",
        "\n",
        "\n",
        "Let's take an example where we define a Person class, and we want to chain methods that modify the attributes of a Person object."
      ],
      "metadata": {
        "id": "CFkwfeO5QlL2"
      }
    },
    {
      "cell_type": "code",
      "source": [
        "class Person:\n",
        "    def __init__(self, name):\n",
        "        self.name = name\n",
        "        self.age = 0\n",
        "\n",
        "    def set_name(self, name):\n",
        "        self.name = name\n",
        "        return self  # Returning the object itself for method chaining\n",
        "\n",
        "    def set_age(self, age):\n",
        "        self.age = age\n",
        "        return self  # Returning the object itself for method chaining\n",
        "\n",
        "    def greet(self):\n",
        "        print(f\"Hello, my name is {self.name} and I am {self.age} years old.\")\n",
        "        return self  # Returning the object for chaining further\n",
        "\n",
        "# Example of method chaining\n",
        "person = Person(\"John\").set_name(\"Alice\").set_age(30).greet()\n"
      ],
      "metadata": {
        "colab": {
          "base_uri": "https://localhost:8080/"
        },
        "id": "fOC9CfOeQQA6",
        "outputId": "839590e4-e278-410c-daef-e711e63d6546"
      },
      "execution_count": 31,
      "outputs": [
        {
          "output_type": "stream",
          "name": "stdout",
          "text": [
            "Hello, my name is Alice and I am 30 years old.\n"
          ]
        }
      ]
    },
    {
      "cell_type": "markdown",
      "source": [
        "**25.What is the purpose of the __call__ method in Python?**"
      ],
      "metadata": {
        "id": "bFZxfKG2RAUP"
      }
    },
    {
      "cell_type": "markdown",
      "source": [
        "The __call__ method in Python is a special (dunder) method that allows an instance of a class to be called like a function. When the __call__ method is defined in a class, the instance of that class becomes callable. This means you can invoke an instance using parentheses, just like calling a regular function.\n",
        "\n",
        "**Purpose of __call__:**\n",
        "\n",
        "\n",
        "The purpose of __call__ is to enable objects to behave like functions. This is useful when you want an object to perform a task or an operation when invoked in a functional way.\n",
        "\n",
        "**How it Works:**\n",
        "\n",
        "\n",
        "\n",
        "1.Defining __call__: To make an instance callable, you define the __call__ method inside the class. This method takes the instance (self) as the first argument, just like any other method.\n",
        "\n",
        "\n",
        "2.Calling the Instance: Once __call__ is implemented, you can invoke an instance of the class using parentheses, and it will trigger the __call__ method.\n",
        "\n",
        "\n",
        "3.Arguments: You can pass arguments to the __call__ method when calling the instance, and the method can accept them as parameters.\n",
        "\n",
        "\n",
        "**Example of __call__:**\n",
        "\n",
        "\n",
        "Let's look at a simple example to demonstrate the usage of the __call__ method."
      ],
      "metadata": {
        "id": "mgvz5ju6RLpu"
      }
    },
    {
      "cell_type": "code",
      "source": [
        "class Adder:\n",
        "    def __init__(self, x):\n",
        "        self.x = x\n",
        "\n",
        "    # The __call__ method allows the instance to be called like a function\n",
        "    def __call__(self, y):\n",
        "        return self.x + y\n",
        "\n",
        "# Create an instance of Adder\n",
        "add_five = Adder(5)\n",
        "\n",
        "# Call the instance like a function\n",
        "result = add_five(10)  # This calls the __call__ method\n",
        "print(result)  # Output: 15\n"
      ],
      "metadata": {
        "colab": {
          "base_uri": "https://localhost:8080/"
        },
        "id": "RTbN6YvbQ2Ww",
        "outputId": "6fab72c9-e920-4512-ef96-c3034d99eda1"
      },
      "execution_count": 32,
      "outputs": [
        {
          "output_type": "stream",
          "name": "stdout",
          "text": [
            "15\n"
          ]
        }
      ]
    },
    {
      "cell_type": "markdown",
      "source": [
        "**Use Cases for __call__:**\n",
        "\n",
        "\n",
        "1.Function Objects: You might want to create an object that behaves like a function. The __call__ method allows you to encapsulate behavior within an object while still making it callable.\n",
        "\n",
        "\n",
        "2.Decorators: Some decorators are implemented using the __call__ method, where the decorator object itself is called to modify the behavior of functions.\n",
        "\n",
        "\n",
        "3.Flexible Functionality: The __call__ method can allow objects to have customizable behavior when invoked, for example, to perform calculations, modify internal state, or trigger an action based on arguments passed during the call."
      ],
      "metadata": {
        "id": "0mkkkk55RuGA"
      }
    },
    {
      "cell_type": "markdown",
      "source": [
        "# **Practical Questions**"
      ],
      "metadata": {
        "id": "SejoM2JGR6Qj"
      }
    },
    {
      "cell_type": "markdown",
      "source": [
        "**1. Create a parent class Animal with a method speak() that prints a generic message. Create a child class Dog that overrides the speak() method to print \"Bark!\"**"
      ],
      "metadata": {
        "id": "Wa32yYanR_-i"
      }
    },
    {
      "cell_type": "code",
      "source": [
        "# Parent class Animal\n",
        "class Animal:\n",
        "    def speak(self):\n",
        "        print(\"Animal makes a sound\")\n",
        "\n",
        "# Child class Dog that overrides the speak() method\n",
        "class Dog(Animal):\n",
        "    def speak(self):\n",
        "        print(\"Bark!\")\n",
        "\n",
        "# Creating an instance of the Animal class\n",
        "animal = Animal()\n",
        "animal.speak()  # Output: Animal makes a sound\n",
        "\n",
        "# Creating an instance of the Dog class\n",
        "dog = Dog()\n",
        "dog.speak()  # Output: Bark!\n"
      ],
      "metadata": {
        "colab": {
          "base_uri": "https://localhost:8080/"
        },
        "id": "yZVRrt1_RnX5",
        "outputId": "89959251-e44e-412b-e241-ca9872072d78"
      },
      "execution_count": 33,
      "outputs": [
        {
          "output_type": "stream",
          "name": "stdout",
          "text": [
            "Animal makes a sound\n",
            "Bark!\n"
          ]
        }
      ]
    },
    {
      "cell_type": "markdown",
      "source": [
        "**2. Write a program to create an abstract class Shape with a method area(). Derive classes Circle and Rectangle from it and implement the area() method in both.**"
      ],
      "metadata": {
        "id": "La_-cwWZSbJ6"
      }
    },
    {
      "cell_type": "code",
      "source": [
        "from abc import ABC, abstractmethod\n",
        "import math\n",
        "\n",
        "# Abstract class Shape\n",
        "class Shape(ABC):\n",
        "    @abstractmethod\n",
        "    def area(self):\n",
        "        pass\n",
        "\n",
        "# Derived class Circle\n",
        "class Circle(Shape):\n",
        "    def __init__(self, radius):\n",
        "        self.radius = radius\n",
        "\n",
        "    def area(self):\n",
        "        return math.pi * self.radius ** 2\n",
        "\n",
        "# Derived class Rectangle\n",
        "class Rectangle(Shape):\n",
        "    def __init__(self, width, height):\n",
        "        self.width = width\n",
        "        self.height = height\n",
        "\n",
        "    def area(self):\n",
        "        return self.width * self.height\n",
        "\n",
        "# Creating instances of Circle and Rectangle and calculating their area\n",
        "circle = Circle(5)\n",
        "rectangle = Rectangle(4, 6)\n",
        "\n",
        "print(f\"Area of the circle: {circle.area():.2f}\")  # Output: Area of the circle: 78.54\n",
        "print(f\"Area of the rectangle: {rectangle.area()}\")  # Output: Area of the rectangle: 24\n"
      ],
      "metadata": {
        "colab": {
          "base_uri": "https://localhost:8080/"
        },
        "id": "Elp7S1YdSW_5",
        "outputId": "6e5cef07-be74-4693-8c5d-6d4c57186790"
      },
      "execution_count": 34,
      "outputs": [
        {
          "output_type": "stream",
          "name": "stdout",
          "text": [
            "Area of the circle: 78.54\n",
            "Area of the rectangle: 24\n"
          ]
        }
      ]
    },
    {
      "cell_type": "markdown",
      "source": [
        "**3. Implement a multi-level inheritance scenario where a class Vehicle has an attribute type. Derive a class Car and further derive a class ElectricCar that adds a battery attribute.**"
      ],
      "metadata": {
        "id": "m7Ta2GYHSo0b"
      }
    },
    {
      "cell_type": "code",
      "source": [
        "# Base class Vehicle\n",
        "class Vehicle:\n",
        "    def __init__(self, type):\n",
        "        self.type = type\n",
        "\n",
        "    def display_type(self):\n",
        "        print(f\"Vehicle type: {self.type}\")\n",
        "\n",
        "# Derived class Car\n",
        "class Car(Vehicle):\n",
        "    def __init__(self, type, brand):\n",
        "        # Calling the constructor of the parent class (Vehicle)\n",
        "        super().__init__(type)\n",
        "        self.brand = brand\n",
        "\n",
        "    def display_brand(self):\n",
        "        print(f\"Car brand: {self.brand}\")\n",
        "\n",
        "# Further derived class ElectricCar\n",
        "class ElectricCar(Car):\n",
        "    def __init__(self, type, brand, battery_capacity):\n",
        "        # Calling the constructor of the parent class (Car)\n",
        "        super().__init__(type, brand)\n",
        "        self.battery_capacity = battery_capacity\n",
        "\n",
        "    def display_battery(self):\n",
        "        print(f\"Battery capacity: {self.battery_capacity} kWh\")\n",
        "\n",
        "# Create an instance of ElectricCar\n",
        "electric_car = ElectricCar(\"Electric\", \"Tesla\", 75)\n",
        "\n",
        "# Accessing attributes and methods from all levels of the inheritance hierarchy\n",
        "electric_car.display_type()  # Vehicle method\n",
        "electric_car.display_brand()  # Car method\n",
        "electric_car.display_battery()  # ElectricCar method\n"
      ],
      "metadata": {
        "colab": {
          "base_uri": "https://localhost:8080/"
        },
        "id": "h6DwUdNySjPB",
        "outputId": "31230964-9cee-4727-a590-158387504281"
      },
      "execution_count": 35,
      "outputs": [
        {
          "output_type": "stream",
          "name": "stdout",
          "text": [
            "Vehicle type: Electric\n",
            "Car brand: Tesla\n",
            "Battery capacity: 75 kWh\n"
          ]
        }
      ]
    },
    {
      "cell_type": "markdown",
      "source": [
        "**4. Implement a multi-level inheritance scenario where a class Vehicle has an attribute type. Derive a class Car and further derive a class ElectricCar that adds a battery attribute.**"
      ],
      "metadata": {
        "id": "5awYIJf3S8uq"
      }
    },
    {
      "cell_type": "code",
      "source": [
        "# Base class Vehicle\n",
        "class Vehicle:\n",
        "    def __init__(self, type):\n",
        "        self.type = type  # Vehicle type (e.g., car, truck, etc.)\n",
        "\n",
        "    def display_type(self):\n",
        "        print(f\"Vehicle type: {self.type}\")\n",
        "\n",
        "# Derived class Car\n",
        "class Car(Vehicle):\n",
        "    def __init__(self, type, brand):\n",
        "        # Calling the constructor of the parent class (Vehicle)\n",
        "        super().__init__(type)\n",
        "        self.brand = brand  # Car brand (e.g., Toyota, Tesla, etc.)\n",
        "\n",
        "    def display_brand(self):\n",
        "        print(f\"Car brand: {self.brand}\")\n",
        "\n",
        "# Further derived class ElectricCar\n",
        "class ElectricCar(Car):\n",
        "    def __init__(self, type, brand, battery_capacity):\n",
        "        # Calling the constructor of the parent class (Car)\n",
        "        super().__init__(type, brand)\n",
        "        self.battery_capacity = battery_capacity  # Battery capacity (e.g., 75 kWh)\n",
        "\n",
        "    def display_battery(self):\n",
        "        print(f\"Battery capacity: {self.battery_capacity} kWh\")\n",
        "\n",
        "# Creating an instance of ElectricCar\n",
        "electric_car = ElectricCar(\"Electric\", \"Tesla\", 75)\n",
        "\n",
        "# Accessing methods from all levels of the inheritance hierarchy\n",
        "electric_car.display_type()      # Veh\n"
      ],
      "metadata": {
        "colab": {
          "base_uri": "https://localhost:8080/"
        },
        "id": "WCSapiKES4X6",
        "outputId": "776dc1b7-db18-430f-c2b5-d6d5f7a73684"
      },
      "execution_count": 36,
      "outputs": [
        {
          "output_type": "stream",
          "name": "stdout",
          "text": [
            "Vehicle type: Electric\n"
          ]
        }
      ]
    },
    {
      "cell_type": "markdown",
      "source": [
        "**5.Write a program to demonstrate encapsulation by creating a class BankAccount with private attributes balance and methods to deposit, withdraw, and check balance.**"
      ],
      "metadata": {
        "id": "eP6fKcYjTqZ3"
      }
    },
    {
      "cell_type": "code",
      "source": [
        "class BankAccount:\n",
        "    def __init__(self, initial_balance=0):\n",
        "        # Private attribute __balance\n",
        "        self.__balance = initial_balance\n",
        "\n",
        "    # Public method to deposit money\n",
        "    def deposit(self, amount):\n",
        "        if amount > 0:\n",
        "            self.__balance += amount\n",
        "            print(f\"Deposited {amount}. New balance is {self.__balance}.\")\n",
        "        else:\n",
        "            print(\"Deposit amount must be positive.\")\n",
        "\n",
        "    # Public method to withdraw money\n",
        "    def withdraw(self, amount):\n",
        "        if amount > 0 and amount <= self.__balance:\n",
        "            self.__balance -= amount\n",
        "            print(f\"Withdrew {amount}. New balance is {self.__balance}.\")\n",
        "        else:\n",
        "            print(\"Insufficient funds or invalid amount.\")\n",
        "\n",
        "    # Public method to check the balance\n",
        "    def check_balance(self):\n",
        "        return self.__balance\n",
        "\n",
        "# Example usage\n",
        "account = BankAccount(100)  # Create an account with an initial balance of 100\n",
        "\n",
        "# Checking the balance\n",
        "print(f\"Initial balance: {account.check_balance()}\")\n",
        "\n",
        "# Depositing money\n",
        "account.deposit(50)  # Deposit 50\n",
        "\n",
        "# Withdrawing money\n",
        "account.withdraw(30)  # Withdraw 30\n",
        "\n",
        "# Trying to withdraw more than the balance\n",
        "account.withdraw(200)  # Insufficient funds\n",
        "\n",
        "# Checking the final balance\n",
        "print(f\"Final balance: {account.check_balance()}\")\n"
      ],
      "metadata": {
        "colab": {
          "base_uri": "https://localhost:8080/"
        },
        "id": "ynXKW0dATDy1",
        "outputId": "8f37d46f-fe65-4436-ca78-5849c9b19143"
      },
      "execution_count": 37,
      "outputs": [
        {
          "output_type": "stream",
          "name": "stdout",
          "text": [
            "Initial balance: 100\n",
            "Deposited 50. New balance is 150.\n",
            "Withdrew 30. New balance is 120.\n",
            "Insufficient funds or invalid amount.\n",
            "Final balance: 120\n"
          ]
        }
      ]
    },
    {
      "cell_type": "markdown",
      "source": [
        "**6.Demonstrate runtime polymorphism using a method play() in a base class Instrument. Derive classes Guitar and Piano that implement their own version of play().**"
      ],
      "metadata": {
        "id": "6xHer-EcT3RS"
      }
    },
    {
      "cell_type": "code",
      "source": [
        "# Base class Instrument\n",
        "class Instrument:\n",
        "    def play(self):\n",
        "        print(\"The instrument is playing.\")\n",
        "\n",
        "# Derived class Guitar\n",
        "class Guitar(Instrument):\n",
        "    def play(self):\n",
        "        print(\"The guitar is playing: Strum strum!\")\n",
        "\n",
        "# Derived class Piano\n",
        "class Piano(Instrument):\n",
        "    def play(self):\n",
        "        print(\"The piano is playing: Ding ding!\")\n",
        "\n",
        "# Function to demonstrate polymorphism\n",
        "def demonstrate_polymorphism(instrument: Instrument):\n",
        "    instrument.play()\n",
        "\n",
        "# Creating objects of Guitar and Piano\n",
        "guitar = Guitar()\n",
        "piano = Piano()\n",
        "\n",
        "# Demonstrating runtime polymorphism\n",
        "demonstrate_polymorphism(guitar)  # Output: The guitar is playing: Strum strum!\n",
        "demonstrate_polymorphism(piano)   # Output: The piano is playing: Ding ding!\n"
      ],
      "metadata": {
        "colab": {
          "base_uri": "https://localhost:8080/"
        },
        "id": "lLquI6i0Twry",
        "outputId": "956cb699-51f0-47a9-8f23-f263221cfd5d"
      },
      "execution_count": 38,
      "outputs": [
        {
          "output_type": "stream",
          "name": "stdout",
          "text": [
            "The guitar is playing: Strum strum!\n",
            "The piano is playing: Ding ding!\n"
          ]
        }
      ]
    },
    {
      "cell_type": "markdown",
      "source": [
        "**7.Create a class MathOperations with a class method add_numbers() to add two numbers and a static method subtract_numbers() to subtract two numbers.**"
      ],
      "metadata": {
        "id": "bRMAHkc5UGNY"
      }
    },
    {
      "cell_type": "code",
      "source": [
        "class MathOperations:\n",
        "    # Class method to add two numbers\n",
        "    @classmethod\n",
        "    def add_numbers(cls, num1, num2):\n",
        "        result = num1 + num2\n",
        "        print(f\"Sum: {result}\")\n",
        "        return result\n",
        "\n",
        "    # Static method to subtract two numbers\n",
        "    @staticmethod\n",
        "    def subtract_numbers(num1, num2):\n",
        "        result = num1 - num2\n",
        "        print(f\"Difference: {result}\")\n",
        "        return result\n",
        "\n",
        "# Demonstrating the usage of class method and static method\n",
        "\n",
        "# Using the class method add_numbers (bound to the class)\n",
        "MathOperations.add_numbers(10, 5)\n",
        "\n",
        "# Using the static method subtract_numbers (can be called without creating an object)\n",
        "MathOperations.subtract_numbers(10, 5)\n"
      ],
      "metadata": {
        "colab": {
          "base_uri": "https://localhost:8080/"
        },
        "id": "5bpIpyngUCC2",
        "outputId": "55a0e7b1-f3fd-4264-a5ee-ab7f94a00628"
      },
      "execution_count": 39,
      "outputs": [
        {
          "output_type": "stream",
          "name": "stdout",
          "text": [
            "Sum: 15\n",
            "Difference: 5\n"
          ]
        },
        {
          "output_type": "execute_result",
          "data": {
            "text/plain": [
              "5"
            ]
          },
          "metadata": {},
          "execution_count": 39
        }
      ]
    },
    {
      "cell_type": "markdown",
      "source": [
        "**8. Implement a class Person with a class method to count the total number of persons created**"
      ],
      "metadata": {
        "id": "EK8WPQDQUSPf"
      }
    },
    {
      "cell_type": "code",
      "source": [
        "class Person:\n",
        "    # Class variable to track the total number of persons\n",
        "    total_persons = 0\n",
        "\n",
        "    def __init__(self, name, age):\n",
        "        self.name = name\n",
        "        self.age = age\n",
        "        # Every time a new person is created, increment the total_persons counter\n",
        "        Person.total_persons += 1\n",
        "\n",
        "    # Class method to get the total number of persons created\n",
        "    @classmethod\n",
        "    def count_persons(cls):\n",
        "        print(f\"Total persons created: {cls.total_persons}\")\n",
        "        return cls.total_persons\n",
        "\n",
        "# Example usage\n",
        "\n",
        "# Creating Person objects\n",
        "person1 = Person(\"Alice\", 30)\n",
        "person2 = Person(\"Bob\", 25)\n",
        "person3 = Person(\"Charlie\", 35)\n",
        "\n",
        "# Using the class method to get the total number of persons\n",
        "Person.count_persons()  # Output: Total persons created: 3\n"
      ],
      "metadata": {
        "colab": {
          "base_uri": "https://localhost:8080/"
        },
        "id": "OIFwWXz3UPMu",
        "outputId": "f91169b7-da61-4cc0-cc9f-cadd2423152f"
      },
      "execution_count": 40,
      "outputs": [
        {
          "output_type": "stream",
          "name": "stdout",
          "text": [
            "Total persons created: 3\n"
          ]
        },
        {
          "output_type": "execute_result",
          "data": {
            "text/plain": [
              "3"
            ]
          },
          "metadata": {},
          "execution_count": 40
        }
      ]
    },
    {
      "cell_type": "markdown",
      "source": [
        "**9.Write a class Fraction with attributes numerator and denominator. Override the str method to display the fraction as \"numerator/denominator\".**"
      ],
      "metadata": {
        "id": "DxmSxe4_UjHj"
      }
    },
    {
      "cell_type": "code",
      "source": [
        "class Fraction:\n",
        "    def __init__(self, numerator, denominator):\n",
        "        if denominator == 0:\n",
        "            raise ValueError(\"Denominator cannot be zero\")\n",
        "        self.numerator = numerator\n",
        "        self.denominator = denominator\n",
        "\n",
        "    # Override __str__ method to return the fraction in the format \"numerator/denominator\"\n",
        "    def __str__(self):\n",
        "        return f\"{self.numerator}/{self.denominator}\"\n",
        "\n",
        "# Example usage\n",
        "fraction1 = Fraction(3, 4)\n",
        "fraction2 = Fraction(5, 6)\n",
        "\n",
        "# Printing the fractions\n",
        "print(fraction1)  # Output: 3/4\n",
        "print(fraction2)  # Output: 5/6\n"
      ],
      "metadata": {
        "colab": {
          "base_uri": "https://localhost:8080/"
        },
        "id": "BOYIHj45UYU1",
        "outputId": "35b1589a-2711-4ab3-fab9-79c1faeddd77"
      },
      "execution_count": 41,
      "outputs": [
        {
          "output_type": "stream",
          "name": "stdout",
          "text": [
            "3/4\n",
            "5/6\n"
          ]
        }
      ]
    },
    {
      "cell_type": "markdown",
      "source": [
        "**10. Demonstrate operator overloading by creating a class Vector and overriding the add method to add two vectors.**"
      ],
      "metadata": {
        "id": "zZYRFr7CUvMf"
      }
    },
    {
      "cell_type": "code",
      "source": [
        "class Vector:\n",
        "    def __init__(self, x, y):\n",
        "        self.x = x\n",
        "        self.y = y\n",
        "\n",
        "    # Overloading the + operator using __add__ method\n",
        "    def __add__(self, other):\n",
        "        # Adding corresponding components of the vectors\n",
        "        return Vector(self.x + other.x, self.y + other.y)\n",
        "\n",
        "    # Method to represent the vector as a string for easy printing\n",
        "    def __str__(self):\n",
        "        return f\"({self.x}, {self.y})\"\n",
        "\n",
        "# Example usage\n",
        "vector1 = Vector(2, 3)\n",
        "vector2 = Vector(4, 1)\n",
        "\n",
        "# Adding two vectors using the overloaded + operator\n",
        "result_vector = vector1 + vector2\n",
        "\n",
        "# Printing the result of vector addition\n",
        "print(f\"Vector1: {vector1}\")\n",
        "print(f\"Vector2: {vector2}\")\n",
        "print(f\"Result of addition: {result_vector}\")\n"
      ],
      "metadata": {
        "colab": {
          "base_uri": "https://localhost:8080/"
        },
        "id": "f88vmnWEUpZ9",
        "outputId": "24549ea7-af77-4fbc-eca1-be966d3f8a49"
      },
      "execution_count": 42,
      "outputs": [
        {
          "output_type": "stream",
          "name": "stdout",
          "text": [
            "Vector1: (2, 3)\n",
            "Vector2: (4, 1)\n",
            "Result of addition: (6, 4)\n"
          ]
        }
      ]
    },
    {
      "cell_type": "markdown",
      "source": [
        "**11.Create a class Person with attributes name and age. Add a method greet() that prints \"Hello, my name is {name} and I am {age} years old.\"**"
      ],
      "metadata": {
        "id": "M_Sdrn-vU5T-"
      }
    },
    {
      "cell_type": "code",
      "source": [
        "class Person:\n",
        "    def __init__(self, name, age):\n",
        "        # Initialize the attributes name and age\n",
        "        self.name = name\n",
        "        self.age = age\n",
        "\n",
        "    def greet(self):\n",
        "        # Print the greeting message\n",
        "        print(f\"Hello, my name is {self.name} and I am {self.age} years old.\")\n",
        "\n",
        "# Example usage\n",
        "person1 = Person(\"Alice\", 30)\n",
        "person2 = Person(\"Bob\", 25)\n",
        "\n",
        "# Calling the greet method on the instances\n",
        "person1.greet()  # Output: Hello, my name is Alice and I am 30 years old.\n",
        "person2.greet()  # Output: Hello, my name is Bob and I am 25 years old.\n",
        "\n"
      ],
      "metadata": {
        "colab": {
          "base_uri": "https://localhost:8080/"
        },
        "id": "s0zVUzdBU1xt",
        "outputId": "f9664435-8721-4ed7-8580-2c96f0f4d0dd"
      },
      "execution_count": 43,
      "outputs": [
        {
          "output_type": "stream",
          "name": "stdout",
          "text": [
            "Hello, my name is Alice and I am 30 years old.\n",
            "Hello, my name is Bob and I am 25 years old.\n"
          ]
        }
      ]
    },
    {
      "cell_type": "markdown",
      "source": [
        "**12. Implement a class Student with attributes name and grades. Create a method average_grade() to compute the average of the grades.**"
      ],
      "metadata": {
        "id": "GRuPfMrRVKPK"
      }
    },
    {
      "cell_type": "code",
      "source": [
        "class Student:\n",
        "    def __init__(self, name, grades):\n",
        "        self.name = name\n",
        "        self.grades = grades\n",
        "\n",
        "    def average_grade(self):\n",
        "        # Check if the list of grades is empty to avoid division by zero\n",
        "        if len(self.grades) == 0:\n",
        "            return \"No grades available\"\n",
        "        return sum(self.grades) / len(self.grades)\n",
        "\n",
        "# Example usage\n",
        "student1 = Student(\"Alice\", [90, 85, 88, 92])\n",
        "student2 = Student(\"Bob\", [78, 82, 85])\n",
        "\n",
        "# Calling the average_grade method on the instances\n",
        "print(f\"{student1.name}'s average grade: {student1.average_grade()}\")  # Output: Alice's average grade: 88.75\n",
        "print(f\"{student2.name}'s average grade: {student2.average_grade()}\")  # Output: Bob's average grade: 81.66666666666667\n"
      ],
      "metadata": {
        "colab": {
          "base_uri": "https://localhost:8080/"
        },
        "id": "oQaIX9uaVDaR",
        "outputId": "f0ff7e26-9b9f-4317-8778-679a633c7557"
      },
      "execution_count": 44,
      "outputs": [
        {
          "output_type": "stream",
          "name": "stdout",
          "text": [
            "Alice's average grade: 88.75\n",
            "Bob's average grade: 81.66666666666667\n"
          ]
        }
      ]
    },
    {
      "cell_type": "markdown",
      "source": [
        "**13. Create a class Rectangle with methods set_dimensions() to set the dimensions and area() to calculate the area.**"
      ],
      "metadata": {
        "id": "ZWCS4ClBVb_e"
      }
    },
    {
      "cell_type": "code",
      "source": [
        "class Rectangle:\n",
        "    def __init__(self):\n",
        "        # Initializing the length and width to None, they will be set later\n",
        "        self.length = None\n",
        "        self.width = None\n",
        "\n",
        "    # Method to set the dimensions of the rectangle\n",
        "    def set_dimensions(self, length, width):\n",
        "        self.length = length\n",
        "        self.width = width\n",
        "\n",
        "    # Method to calculate the area of the rectangle\n",
        "    def area(self):\n",
        "        if self.length is None or self.width is None:\n",
        "            return \"Dimensions not set.\"\n",
        "        return self.length * self.width\n",
        "\n",
        "# Example usage\n",
        "rect = Rectangle()\n",
        "\n",
        "# Setting the dimensions of the rectangle\n",
        "rect.set_dimensions(5, 3)\n",
        "\n",
        "# Calculating and printing the area of the rectangle\n",
        "print(f\"Area of the rectangle: {rect.area()}\")  # Output: Area of the rectangle: 15\n",
        "\n",
        "# Example where dimensions are not set\n",
        "rect2 = Rectangle()\n",
        "print(f\"Area of the second rectangle: {rect2.area()}\")  # Output: Dimensions not set.\n"
      ],
      "metadata": {
        "colab": {
          "base_uri": "https://localhost:8080/"
        },
        "id": "FuPBl4oBVSqI",
        "outputId": "96c93892-dfe5-4d9c-e0b6-1dec37093679"
      },
      "execution_count": 45,
      "outputs": [
        {
          "output_type": "stream",
          "name": "stdout",
          "text": [
            "Area of the rectangle: 15\n",
            "Area of the second rectangle: Dimensions not set.\n"
          ]
        }
      ]
    },
    {
      "cell_type": "markdown",
      "source": [
        "**14.Create a class Employee with a method calculate_salary() that computes the salary based on hours worked and hourly rate. Create a derived class Manager that adds a bonus to the salary**"
      ],
      "metadata": {
        "id": "XyPXgNeoVwck"
      }
    },
    {
      "cell_type": "code",
      "source": [
        "class Employee:\n",
        "    def __init__(self, hours_worked, hourly_rate):\n",
        "        self.hours_worked = hours_worked\n",
        "        self.hourly_rate = hourly_rate\n",
        "\n",
        "    def calculate_salary(self):\n",
        "        # Calculate salary based on hours worked and hourly rate\n",
        "        return self.hours_worked * self.hourly_rate\n",
        "\n",
        "# Derived class Manager that adds a bonus to the salary\n",
        "class Manager(Employee):\n",
        "    def __init__(self, hours_worked, hourly_rate, bonus):\n",
        "        # Initialize the parent class (Employee) attributes\n",
        "        super().__init__(hours_worked, hourly_rate)\n",
        "        self.bonus = bonus\n",
        "\n",
        "    def calculate_salary(self):\n",
        "        # Calculate salary and add the bonus\n",
        "        base_salary = super().calculate_salary()  # Calling parent class method\n",
        "        return base_salary + self.bonus\n",
        "\n",
        "# Example usage\n",
        "employee = Employee(40, 20)  # 40 hours worked, $20 per hour\n",
        "manager = Manager(40, 20, 1000)  # 40 hours worked, $20 per hour, $1000 bonus\n",
        "\n",
        "# Print the salary of the employee\n",
        "print(f\"Employee salary: ${employee.calculate_salary()}\")  # Output: Employee salary: $800\n",
        "\n",
        "# Print the salary of the manager (with bonus)\n",
        "print(f\"Manager salary: ${manager.calculate_salary()}\")  # Output: Manager salary: $1800\n"
      ],
      "metadata": {
        "colab": {
          "base_uri": "https://localhost:8080/"
        },
        "id": "5NesZ_BYVnLK",
        "outputId": "cb71e55d-dca9-4deb-b4ef-d8adaf56443e"
      },
      "execution_count": 47,
      "outputs": [
        {
          "output_type": "stream",
          "name": "stdout",
          "text": [
            "Employee salary: $800\n",
            "Manager salary: $1800\n"
          ]
        }
      ]
    },
    {
      "cell_type": "markdown",
      "source": [
        "**15. Create a class Product with attributes name, price, and quantity. Implement a method total_price() that calculates the total price of the product.**"
      ],
      "metadata": {
        "id": "thCgnbuKWOP8"
      }
    },
    {
      "cell_type": "code",
      "source": [
        "class Product:\n",
        "    def __init__(self, name, price, quantity):\n",
        "        # Initialize the product with name, price, and quantity\n",
        "        self.name = name\n",
        "        self.price = price\n",
        "        self.quantity = quantity\n",
        "\n",
        "    def total_price(self):\n",
        "        # Calculate the total price by multiplying price and quantity\n",
        "        return self.price * self.quantity\n",
        "\n",
        "# Example usage\n",
        "product1 = Product(\"Laptop\", 1000, 2)\n",
        "product2 = Product(\"Headphones\", 50, 5)\n",
        "\n",
        "# Calculating and printing the total price of each product\n",
        "print(f\"Total price of {product1.name}: ${product1.total_price()}\")  # Output: Total price of Laptop: $2000\n",
        "print(f\"Total price of {product2.name}: ${product2.total_price()}\")  # Output: Total price of Headphones: $250\n"
      ],
      "metadata": {
        "colab": {
          "base_uri": "https://localhost:8080/"
        },
        "id": "7OQEKr8NV4Ne",
        "outputId": "bf97f793-3714-4949-abd2-fd2d952de9c7"
      },
      "execution_count": 48,
      "outputs": [
        {
          "output_type": "stream",
          "name": "stdout",
          "text": [
            "Total price of Laptop: $2000\n",
            "Total price of Headphones: $250\n"
          ]
        }
      ]
    },
    {
      "cell_type": "markdown",
      "source": [
        "**16. Create a class Animal with an abstract method sound(). Create two derived classes Cow and Sheep that implement the sound() method.**"
      ],
      "metadata": {
        "id": "zzGBF761Wd9M"
      }
    },
    {
      "cell_type": "code",
      "source": [
        "from abc import ABC, abstractmethod\n",
        "\n",
        "# Abstract Base Class Animal\n",
        "class Animal(ABC):\n",
        "    @abstractmethod\n",
        "    def sound(self):\n",
        "        pass\n",
        "\n",
        "# Derived class Cow that implements sound()\n",
        "class Cow(Animal):\n",
        "    def sound(self):\n",
        "        return \"Moo\"\n",
        "\n",
        "# Derived class Sheep that implements sound()\n",
        "class Sheep(Animal):\n",
        "    def sound(self):\n",
        "        return \"Baa\"\n",
        "\n",
        "# Example usage\n",
        "cow = Cow()\n",
        "sheep = Sheep()\n",
        "\n",
        "# Calling the sound method for each animal\n",
        "print(f\"Cow makes sound: {cow.sound()}\")  # Output: Cow makes sound: Moo\n",
        "print(f\"Sheep makes sound: {sheep.sound()}\")  # Output: Sheep makes sound: Baa\n"
      ],
      "metadata": {
        "colab": {
          "base_uri": "https://localhost:8080/"
        },
        "id": "f8IPS5iyWUtN",
        "outputId": "281ff458-6b10-47f1-c1ab-c2e138ac485d"
      },
      "execution_count": 49,
      "outputs": [
        {
          "output_type": "stream",
          "name": "stdout",
          "text": [
            "Cow makes sound: Moo\n",
            "Sheep makes sound: Baa\n"
          ]
        }
      ]
    },
    {
      "cell_type": "markdown",
      "source": [
        "**17.Create a class Book with attributes title, author, and year_published. Add a method get_book_info() that returns a formatted string with the book's details.**"
      ],
      "metadata": {
        "id": "Ya9_2xOqWs9V"
      }
    },
    {
      "cell_type": "code",
      "source": [
        "class Book:\n",
        "    def __init__(self, title, author, year_published):\n",
        "        # Initialize the book with title, author, and year_published\n",
        "        self.title = title\n",
        "        self.author = author\n",
        "        self.year_published = year_published\n",
        "\n",
        "    def get_book_info(self):\n",
        "        # Return a formatted string with book details\n",
        "        return f\"'{self.title}' by {self.author}, published in {self.year_published}\"\n",
        "\n",
        "# Example usage\n",
        "book1 = Book(\"1984\", \"George Orwell\", 1949)\n",
        "book2 = Book(\"To Kill a Mockingbird\", \"Harper Lee\", 1960)\n",
        "\n",
        "# Get and print the book information\n",
        "print(book1.get_book_info())  # Output: '1984' by George Orwell, published in 1949\n",
        "print(book2.get_book_info())  # Output: 'To Kill a Mockingbird' by Harper Lee, published in 1960\n"
      ],
      "metadata": {
        "colab": {
          "base_uri": "https://localhost:8080/"
        },
        "id": "-NjVDZToWouN",
        "outputId": "7e4cf37f-c36b-41ee-c8f0-7992d2fdadc5"
      },
      "execution_count": 50,
      "outputs": [
        {
          "output_type": "stream",
          "name": "stdout",
          "text": [
            "'1984' by George Orwell, published in 1949\n",
            "'To Kill a Mockingbird' by Harper Lee, published in 1960\n"
          ]
        }
      ]
    },
    {
      "cell_type": "markdown",
      "source": [
        "**18. Create a class House with attributes address and price. Create a derived class Mansion that adds an attribute number_of_rooms.**"
      ],
      "metadata": {
        "id": "B4NEFBXnW7rJ"
      }
    },
    {
      "cell_type": "code",
      "source": [
        "# Base class House\n",
        "class House:\n",
        "    def __init__(self, address, price):\n",
        "        # Initialize the house with address and price\n",
        "        self.address = address\n",
        "        self.price = price\n",
        "\n",
        "# Derived class Mansion that adds number_of_rooms\n",
        "class Mansion(House):\n",
        "    def __init__(self, address, price, number_of_rooms):\n",
        "        # Initialize the base class (House) attributes\n",
        "        super().__init__(address, price)\n",
        "        # Initialize the number_of_rooms attribute\n",
        "        self.number_of_rooms = number_of_rooms\n",
        "\n",
        "    def get_mansion_info(self):\n",
        "        # Return a formatted string with mansion details\n",
        "        return f\"Mansion located at {self.address}, priced at ${self.price}, with {self.number_of_rooms} rooms.\"\n",
        "\n",
        "# Example usage\n",
        "house = House(\"123 Elm St\", 250000)\n",
        "mansion = Mansion(\"456 Luxury Ave\", 5000000, 10)\n",
        "\n",
        "# Print the details of the house and mansion\n",
        "print(f\"House: Address - {house.address}, Price - ${house.price}\")\n",
        "print(mansion.get_mansion_info())  # Output: Mansion located at 456 Luxury Ave, priced at $5000000, with 10 rooms.\n"
      ],
      "metadata": {
        "colab": {
          "base_uri": "https://localhost:8080/"
        },
        "id": "EdR0sSTzW5pR",
        "outputId": "d27a89ec-27a5-4080-8853-b582c78e54ca"
      },
      "execution_count": 51,
      "outputs": [
        {
          "output_type": "stream",
          "name": "stdout",
          "text": [
            "House: Address - 123 Elm St, Price - $250000\n",
            "Mansion located at 456 Luxury Ave, priced at $5000000, with 10 rooms.\n"
          ]
        }
      ]
    },
    {
      "cell_type": "code",
      "source": [],
      "metadata": {
        "id": "91WUAKjVXITq"
      },
      "execution_count": null,
      "outputs": []
    }
  ]
}